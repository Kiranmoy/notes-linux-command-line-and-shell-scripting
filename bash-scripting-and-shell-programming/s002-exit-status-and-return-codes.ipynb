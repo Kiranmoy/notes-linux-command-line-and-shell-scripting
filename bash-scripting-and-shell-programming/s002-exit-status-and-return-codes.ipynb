{
 "cells": [
  {
   "cell_type": "markdown",
   "id": "91ed06a5-7b43-4e63-a0b9-3fca6a5508f5",
   "metadata": {},
   "source": [
    "# What You Will Learn"
   ]
  },
  {
   "cell_type": "markdown",
   "id": "dbdc521e-aca9-4cc7-87ed-4c6701177cb0",
   "metadata": {},
   "source": [
    "* How to check the exit status of a command.\n",
    "* How to make decisions based on the status.\n",
    "* How to use exit statuses in your own scripts."
   ]
  },
  {
   "cell_type": "markdown",
   "id": "f0000268-b8fa-469b-a86a-e4413094f810",
   "metadata": {},
   "source": [
    "# Exit Status / Return Code"
   ]
  },
  {
   "cell_type": "markdown",
   "id": "d3a2fbc3-9285-4064-af63-65dd026b6c1e",
   "metadata": {},
   "source": [
    "* Every command returns an exit status (**return code**).\n",
    "* Exit status ranges from `0` to `255`.\n",
    "    * `0` = success.\n",
    "    * Other than `0` = error condition.\n",
    "* Exit status/Return code is used for error checking.\n",
    "* Use `man` or `info` to find the meaning of different exit statuses returned by a command."
   ]
  },
  {
   "cell_type": "markdown",
   "id": "988a35fd-bb51-4d66-9a30-7be0a736bce0",
   "metadata": {},
   "source": [
    "# Checking the Exit Status"
   ]
  },
  {
   "cell_type": "markdown",
   "id": "41d6d290-2cc0-4086-80f5-3c2e917003a8",
   "metadata": {},
   "source": [
    "**`$?`** contains the return code of the previously executed command.\n",
    "\n",
    "**Example 1**:\n",
    "```bash\n",
    "ls /not/here      # path provided doesn't exist\n",
    "echo \"$?\"\n",
    "```\n",
    "\n",
    "Output: 2\n",
    "\n",
    "**Example 2**:\n",
    "```bash\n",
    "HOST=\"google.com\"\n",
    "\n",
    "ping -c 1 $HOST\n",
    "\n",
    "if [ \"$?\" -eq \"0\" ]\n",
    "then\n",
    "    echo \"$HOST reachable.\"\n",
    "else\n",
    "    echo \"$HOST unreachable.\"\n",
    "fi\n",
    "```\n",
    "\n",
    "**Example 3**:\n",
    "```bash\n",
    "HOST=\"google.com\"\n",
    "\n",
    "ping -c 1 $HOST\n",
    "\n",
    "if [ \"$?\" -ne \"0\" ]\n",
    "then\n",
    "    echo \"$HOST unreachable.\"\n",
    "fi\n",
    "```\n",
    "\n",
    "**Example 4**:\n",
    "```bash\n",
    "HOST=\"google.com\"\n",
    "ping -c 1 $HOST\n",
    "RETURN_CODE=$?\n",
    "\n",
    "if [ \"$RETURN_CODE\" -ne \"0\" ]\n",
    "then\n",
    "    echo \"$HOST unreachable.\"\n",
    "fi\n",
    "```"
   ]
  },
  {
   "cell_type": "markdown",
   "id": "16c28405-cf26-4d87-8090-ac3267012602",
   "metadata": {},
   "source": [
    "# && and ||"
   ]
  },
  {
   "cell_type": "markdown",
   "id": "c57f7f90-6dc6-42b5-b726-90532baa48ab",
   "metadata": {},
   "source": [
    "**&& = AND**\n",
    "```bash\n",
    "mkdir /tmp/bak && cp test.txt /tmp/bak/\n",
    "```\n",
    "\n",
    "Here, \n",
    "* If the `mkdir` command succeeds in creating the directory `/tmp/bak`, then only the `cp` command will be executed.\n",
    "* But, if the `mkdir` command failed in creating the directory `/tmp/bak`, then the `cp` command will **NOT** be executed.\n",
    "\n",
    "**|| = OR**\n",
    "```bash\n",
    "cp test.txt /tmp/bak/ || cp test.txt /tmp\n",
    "```\n",
    "\n",
    "Here, \n",
    "* If the first `cp` command succeeds, then the second `cp` command will **NOT** be executed.\n",
    "* But, if the first `cp` command failed, then the second `cp` command will be executed.\n",
    "\n",
    "\n",
    "> Note:\n",
    "> * Zero Exit status is considered true.\n",
    "> * Non-Zero Exit status is considered true.\n",
    "\n",
    "**Example 1**:\n",
    "```bash\n",
    "#!/bin/bash\n",
    "HOST=\"google.com\"\n",
    "ping -c 1 $HOST && echo \"$HOST reachable.\"\n",
    "```\n",
    "\n",
    "Here, if the `ping` command returns an exit status `0`, then only **google.com reachable** will be printed. Otherwise, nothing will be printed.\n",
    "\n",
    "**Example 2**:\n",
    "```bash\n",
    "#!/bin/bash\n",
    "HOST=\"google.com\"\n",
    "ping -c 1 $HOST || echo \"$HOST unreachable.\n",
    "```\n",
    "\n",
    "Here, if the `ping` command returns **non-zero** exit status, then only **google.com unreachable** will be printed. Otherwise, nothing will be printed."
   ]
  },
  {
   "cell_type": "markdown",
   "id": "7042d65b-b602-4253-8a33-ecd0cb0a2a4f",
   "metadata": {},
   "source": [
    "# The semicolon"
   ]
  },
  {
   "cell_type": "markdown",
   "id": "a206c535-bbb5-4dc2-bbc2-99e47da79fe4",
   "metadata": {
    "jp-MarkdownHeadingCollapsed": true
   },
   "source": [
    "* To chain multiple commands together in a single line, you need to separate the commands with a semicolon to ensure that they all get executed.\n",
    "* The semicolon(;) doesn't check the exit status of the previous command.\n",
    "\n",
    "**Example**:\n",
    "```bash\n",
    "cp test.txt /tmp/bak/ ; cp test.txt /tmp\n",
    "\n",
    "# Same as:\n",
    "\n",
    "cp test.txt /tmp/bak/\n",
    "cp test.txt /tmp\n",
    "```"
   ]
  },
  {
   "cell_type": "markdown",
   "id": "72bf79f2-4e8c-4cea-a578-f8c6a7ec2ab5",
   "metadata": {},
   "source": [
    "# Exit Command"
   ]
  },
  {
   "cell_type": "markdown",
   "id": "0d60e421-a85b-4034-9f3e-718ef7c359b1",
   "metadata": {},
   "source": [
    "Not only do normal commands return an exit status, but shell script also returns an exit status.\n",
    "\n",
    "You can control the exit status returned by a shell script using `exit` command.\n",
    "\n",
    "Explicitly define the return code\n",
    "* `exit 0`\n",
    "* `exit 1`\n",
    "* `exit 2`\n",
    "* `exit 255`\n",
    "* etc...\n",
    "\n",
    "If you do not specify a return code, then by default, the exit status of the last command executed is considered as the shell script's exit status.\n",
    "\n",
    "**Example**:\n",
    "```bash\n",
    "#!/bin/bash\n",
    "HOST=\"google.com\"\n",
    "ping -c 1 $HOST\n",
    "\n",
    "if [ \"$?\" -ne \"0\" ]\n",
    "then\n",
    "    echo \"$HOST unreachable.\"\n",
    "    exit 1\n",
    "fi\n",
    "exit 0\n",
    "```"
   ]
  },
  {
   "cell_type": "markdown",
   "id": "57af6268-f3ea-473e-b319-014b7cb60987",
   "metadata": {},
   "source": [
    "# Summary"
   ]
  },
  {
   "cell_type": "markdown",
   "id": "0877fadc-f0f7-43bd-8eae-72c02bb6a047",
   "metadata": {},
   "source": [
    "* All commands return an exit status\n",
    "* Valid exit status range from `0` - `255`\n",
    "* `0` = success\n",
    "* Other than `0` = error condition\n",
    "* `$?` contains the exit status of the previous executed command.\n",
    "* Decision making - `if`, `&&`, `||`\n",
    "* `exit` command allows specifying the exit status of a script."
   ]
  },
  {
   "cell_type": "code",
   "execution_count": null,
   "id": "dd0308aa-731d-41a2-8124-c36529d15b44",
   "metadata": {},
   "outputs": [],
   "source": []
  }
 ],
 "metadata": {
  "kernelspec": {
   "display_name": "Python 3 (ipykernel)",
   "language": "python",
   "name": "python3"
  },
  "language_info": {
   "codemirror_mode": {
    "name": "ipython",
    "version": 3
   },
   "file_extension": ".py",
   "mimetype": "text/x-python",
   "name": "python",
   "nbconvert_exporter": "python",
   "pygments_lexer": "ipython3",
   "version": "3.12.5"
  }
 },
 "nbformat": 4,
 "nbformat_minor": 5
}
