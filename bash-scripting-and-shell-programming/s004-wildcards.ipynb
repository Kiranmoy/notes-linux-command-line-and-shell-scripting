{
 "cells": [
  {
   "cell_type": "markdown",
   "id": "e973984f-2785-4e38-821e-da5ecfd92f02",
   "metadata": {},
   "source": [
    "# What You Will Learn"
   ]
  },
  {
   "cell_type": "markdown",
   "id": "aa9a78d4-0a1f-40fb-9ee1-8e7b1b28220e",
   "metadata": {},
   "source": [
    "* What wildcards are.\n",
    "* When and where they can be used.\n",
    "* The different types of wildcards.\n",
    "* How to use wildcards with various commands.\n",
    "* How to use wildcards in your shell scripts."
   ]
  },
  {
   "cell_type": "markdown",
   "id": "ad154138-62ff-4141-a864-6dfb88935267",
   "metadata": {},
   "source": [
    "# Wildcards"
   ]
  },
  {
   "cell_type": "markdown",
   "id": "e75159a7-d35a-4f3d-967c-80ec47f4e82e",
   "metadata": {},
   "source": [
    "* A character or string that is used to create a **search pattern** which is used for pattern matching.\n",
    "* Sometimes wildcards are referred to as **globs** or **glob patterns**.\n",
    "* **Globbing** refers to the process of expanding the wildcard **search pattern** into a list of files and/or directories. (paths)\n",
    "* Wildcards can be used with most commands, such as: `ls`, `rm`, `cp`, `mv`, etc.\n"
   ]
  },
  {
   "cell_type": "markdown",
   "id": "cdf62f11-a4aa-4a63-803e-e98a7e3c20ab",
   "metadata": {},
   "source": [
    "# Basic Wildcards"
   ]
  },
  {
   "cell_type": "markdown",
   "id": "bca4f28a-368b-414a-b8fe-de4ed0468922",
   "metadata": {},
   "source": [
    "**`*` - matches zero or more characters.**\n",
    "\n",
    "Examples:\n",
    "\n",
    "```bash\n",
    "*.txt           # matches all the files ending with .txt\n",
    "a*              # matches all the files starting with 'a'\n",
    "a*.txt          # matches all the files starting with 'a' and ending with .txt\n",
    "```\n",
    "\n",
    "---\n",
    "\n",
    "**`?` - matches exactly one character.**\n",
    "\n",
    "Examples:\n",
    "\n",
    "```bash\n",
    "?.txt          # matches all the files that have a 1-character name followed by .txt\n",
    "a?             # matches all the files having a 2-letter name starting with `a`\n",
    "a?.txt         # matches all the files that have a 2-character name starting with `a` and followed by .txt\n",
    "```"
   ]
  },
  {
   "cell_type": "markdown",
   "id": "8821bffe-2d3d-4607-9c12-f5a1e0f14ef2",
   "metadata": {},
   "source": [
    "# Character Classes"
   ]
  },
  {
   "cell_type": "markdown",
   "id": "025dcd4d-dd3b-46cf-8a7f-c456cb578565",
   "metadata": {},
   "source": [
    "**`[]` - Matches any of the characters included between the brackets.**\n",
    "\n",
    "> Matches exactly one character.\n",
    "\n",
    "Example:\n",
    "```bash\n",
    "[aeiou]\n",
    "ca[nt]*\n",
    "\n",
    "# can\n",
    "# cat\n",
    "# candy\n",
    "# catch\n",
    "```\n",
    "\n",
    "---\n",
    "\n",
    "**`[!]` - Matches any of the characters NOT included between the brackets.**\n",
    "\n",
    "> Matches exactly one character.\n",
    "\n",
    "Example:\n",
    "```bash\n",
    "[!aeiou]*\n",
    "\n",
    "# baseball\n",
    "# cricket\n",
    "```"
   ]
  },
  {
   "cell_type": "markdown",
   "id": "fedf42c4-8d26-453b-b077-1f571e41b164",
   "metadata": {},
   "source": [
    "# Ranges"
   ]
  },
  {
   "cell_type": "markdown",
   "id": "6a11bb96-d681-4192-a1b9-28a20e4b7c70",
   "metadata": {},
   "source": [
    "Use two characters separated by a hyphen to create a range in a character class.\n",
    "\n",
    "* `[a-g]*`: Matches all files that start with a, b, c, d, e, f, or g.\n",
    "* `[3-6]*`: Matches all files that start with 3, 4, 5 or 6."
   ]
  },
  {
   "cell_type": "markdown",
   "id": "5d3dbca6-1bed-4cec-9816-1a671535ac7c",
   "metadata": {},
   "source": [
    "# Named Character Classes"
   ]
  },
  {
   "cell_type": "markdown",
   "id": "ae67aa05-89b7-4b04-a4fe-e1ab6b6c9d5e",
   "metadata": {},
   "source": [
    "* `[[:alpha:]]`\n",
    "* `[[:alnum:]]`\n",
    "* `[[:digit:]]`\n",
    "* `[[:lower:]]`\n",
    "* `[[:space:]]`\n",
    "* `[[:upper:]]`"
   ]
  },
  {
   "cell_type": "markdown",
   "id": "c6789312-ab81-4790-8a17-82a242cb1b6e",
   "metadata": {},
   "source": [
    "# Matching Wildcard patterns"
   ]
  },
  {
   "cell_type": "markdown",
   "id": "201139cf-4b21-49a4-96d9-6e5447b99dde",
   "metadata": {},
   "source": [
    "**`\\` - escape character.**\n",
    "\n",
    "Use if you want to match a wildcard character.\n",
    "\n",
    "**Example**: Match all files that end with a question mark: `*\\?`\n",
    "```bash\n",
    "# done?\n",
    "```"
   ]
  },
  {
   "cell_type": "markdown",
   "id": "9c7242bb-55c2-495a-a94a-49451a9a437f",
   "metadata": {},
   "source": [
    "# Wildcards in Shell Scripts"
   ]
  },
  {
   "cell_type": "markdown",
   "id": "35a1cee0-41ad-47c0-8fa2-5118f21cdeca",
   "metadata": {},
   "source": [
    "**Why use wildcards?**\n",
    "\n",
    "Wildcards are great when you want to work on a group of files or directories.\n",
    "\n",
    "---\n",
    "\n",
    "**Just like a regular command line.**\n",
    "\n",
    "```bash\n",
    "#!/bin/bash\n",
    "cd /var/www\n",
    "cp *.html /var/www-just-html\n",
    "```\n",
    "\n",
    "---\n",
    "\n",
    "**In a for loop**: Example 1\n",
    "\n",
    "```bash\n",
    "#!/bin/bash\n",
    "\n",
    "cd /var/www\n",
    "\n",
    "for FILE in *.html                # Note the wildcard expression expands to create a list of matching files & directories.\n",
    "do\n",
    "    echo \"Copying $FILE\"\n",
    "    cp $FILE /var/www-just-html\n",
    "done\n",
    "```\n",
    "\n",
    "**Output**:\n",
    "\n",
    "```bash\n",
    "Copying about.html\n",
    "Copying contact.html\n",
    "Copying index.html\n",
    "```\n",
    "\n",
    "---\n",
    "\n",
    "\n",
    "**In a for loop**: Example 2\n",
    "\n",
    "```bash\n",
    "#!/bin/bash\n",
    "\n",
    "for FILE in /var/www/*.html        # Note the wildcard expression expands to create a list of matching files & directories.\n",
    "do\n",
    "    echo \"Copying $FILE\"\n",
    "    cp $FILE /var/www-just-html\n",
    "done\n",
    "```\n",
    "\n",
    "**Output**:\n",
    "\n",
    "```bash\n",
    "Copying /var/www/about.html\n",
    "Copying /var/www/contact.html\n",
    "Copying /var/www/index.html\n",
    "```\n",
    "\n",
    "---\n",
    "\n",
    "**In a for loop**: Example 3\n",
    "\n",
    "```bash\n",
    "#!/bin/bash\n",
    "\n",
    "for FILE in *.html                    # Note the wildcard expression expands to create a list of matching files & directories.\n",
    "do\n",
    "    echo \"Copying $FILE\"\n",
    "    cp $FILE /var/www-just-html\n",
    "done\n",
    "```\n",
    "\n"
   ]
  },
  {
   "cell_type": "code",
   "execution_count": null,
   "id": "b366d309-b07c-4478-865b-341623f51ad3",
   "metadata": {},
   "outputs": [],
   "source": []
  },
  {
   "cell_type": "code",
   "execution_count": null,
   "id": "f83302b1-4ce9-4c7d-a95a-5a6ef8b60a01",
   "metadata": {},
   "outputs": [],
   "source": []
  }
 ],
 "metadata": {
  "kernelspec": {
   "display_name": "Python 3 (ipykernel)",
   "language": "python",
   "name": "python3"
  },
  "language_info": {
   "codemirror_mode": {
    "name": "ipython",
    "version": 3
   },
   "file_extension": ".py",
   "mimetype": "text/x-python",
   "name": "python",
   "nbconvert_exporter": "python",
   "pygments_lexer": "ipython3",
   "version": "3.12.5"
  }
 },
 "nbformat": 4,
 "nbformat_minor": 5
}
