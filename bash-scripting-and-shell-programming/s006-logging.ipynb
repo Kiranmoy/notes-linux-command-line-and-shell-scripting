{
 "cells": [
  {
   "cell_type": "markdown",
   "id": "04e5350b-9202-48ee-8697-57ec593945bd",
   "metadata": {},
   "source": [
    "# What You Will Learn"
   ]
  },
  {
   "cell_type": "markdown",
   "id": "ac57aa8e-3af8-4bd7-9af3-313feef350b0",
   "metadata": {},
   "source": [
    "* Why log\n",
    "* Syslog standard\n",
    "* Generating log messages\n",
    "* Custom logging functions"
   ]
  },
  {
   "cell_type": "markdown",
   "id": "2cdbea2d-53fc-498d-9ce0-94708d6c4892",
   "metadata": {},
   "source": [
    "# Logging"
   ]
  },
  {
   "cell_type": "markdown",
   "id": "b09ea1d2-d29b-4a2d-8aeb-ca5d3a6c4025",
   "metadata": {},
   "source": [
    "* Logs typically store information to answer the who, what, when, where, and why something occurred.\n",
    "* Logs are useful because often script execution produces so much console output that it gets scrolled off the screen.\n",
    "* Also, when we run a script unattended (via cron, etc.), logs provide a way to look back and see what exactly happened in the execution."
   ]
  },
  {
   "cell_type": "markdown",
   "id": "26bfadd9-6cb3-49f3-832f-d3c5f084f65a",
   "metadata": {},
   "source": [
    "# Syslog"
   ]
  },
  {
   "cell_type": "markdown",
   "id": "3ce00a88-ed7f-417c-bf84-5184259c1eeb",
   "metadata": {},
   "source": [
    "The linux operating system uses `syslog` for message logging.\n",
    "* This allows programs & applications to generate messages that can be captured, processed, and stored by the **system logger**.\n",
    "* It eliminates the need for each and every application having to implement a logging mechanism.\n",
    "* That means we can take advantage of this logging system in our shell scripts.\n",
    "\n",
    "The `syslog` standard uses **facilities** and **severities** to categorize messages.\n",
    "* Each message is labelled with a **facility code** and a **severity level**.\n",
    "* The various combinations of **facilities** and **severities** can be used to determine how a message is handled.\n",
    "\n",
    "**Facilities**\n",
    "* Facilities are used to indicate what type of program  **or** what part of the system the message originated from.\n",
    "* For example,\n",
    "    * Messages that are labelled with `kern` facility are originated from the Linux kernel. \n",
    "    * Messages that are labelled with the `mail` facility are originated from the applications handling mail.\n",
    "* There are several facilities such as: `kern`, `user`, `mail`, `daemon`, `auth`, `local0` to `local7`, etc.\n",
    "* If your script is involved in handling **mail**, you could use the `mail` facility for logging.\n",
    "* If it's not clear what facility to use, you can simply use the `user` facility.\n",
    "* Also, the facilities ranging from `local0` to `local7` are to be used to create custom logs.\n",
    "\n",
    "**Severities**: \n",
    "* The Severities are: `emerg` **(emergency)**, `alert` **(alert)**, `crit` **(critical)**, `err` **(error)**, `warning` **(warning)**, `notice`, `info`, `debug`.\n",
    "* The most severe message is an **emergency** message - `emerg` and the least severe message is the **debugging** message - `debug`.\n",
    "\n",
    "These combinations of facilities & severities are used by the system logger to handle these messages.\n",
    "* Most messages are simply written to a file.\n",
    "* Each distribution uses a slightly different set of defaults, and these logging rules are configurable and can be changed.\n",
    "\n",
    "Log file locations are configurable; some common log locations are:\n",
    "* `/var/log/messages`\n",
    "* `/var/log/syslog`\n",
    "\n",
    "Consult the documentation for the system logger that is in use on your system.\n",
    "\n",
    "Some common system loggers are: \n",
    "* syslogd\n",
    "* rsyslog\n",
    "* syslogng, etc. \n"
   ]
  },
  {
   "cell_type": "markdown",
   "id": "8138f36b-1df7-45a6-8106-fdcb2e6813dd",
   "metadata": {},
   "source": [
    "# Logging with logger"
   ]
  },
  {
   "cell_type": "markdown",
   "id": "b8f64903-d0b7-4add-b364-d13c90812cc9",
   "metadata": {},
   "source": [
    "* The logger utility generates **syslog** messages.\n",
    "* By default, it creates `user.notice` messages that are `user` facility & `notice` severity.\n",
    "* If you want to specify the **facility** and **severity**, use the `-p` option followed by `facility.severity`.\n",
    "* If you want to tag your message, use the `-t` option.\n",
    "    * Typically, the **name of the script** is used as the tag.\n",
    "    * This helps to search the **name of your script** in a log file to extract just the messages for your script.\n",
    "* If you want to include the **PID (Process ID)** in the log messages, then use the `-i` option.\n",
    "* Remember that different **facility** and **severity** can cause the system logger to route the messages to a different log file.\n",
    "* If you want to display the message to the console screen in addition to sending it to the logging system, use the `-s` option.\n",
    "\n",
    "**Example**:\n",
    "```bash\n",
    "logger \"Message\"\n",
    "logger -p local0.info \"Message\"\n",
    "logger -t myscript -p local0.info \"Message\"\n",
    "logger -i -t myscript \"Message\"\n",
    "```\n",
    "\n",
    "\n",
    "**Usages**:\n",
    "```bash\n",
    "$ logger \"Message\"\n",
    "# Aug 2 01:22:34 linuxsvr jason: Message\n",
    "\n",
    "\n",
    "$ logger -p local0.info \"Message\"\n",
    "# Aug 2 01:22:41 linuxsvr jason: Message\n",
    "\n",
    "\n",
    "$ logger -s -p local0.info \"Message\"\n",
    "# jason: Message                      # <-- Displayed on screen.\n",
    "\n",
    "\n",
    "$ logger -t myscript -p local0.info \"Message\"\n",
    "# Aug 2 01:22:44 linuxsvr myscript: Message\n",
    "\n",
    "\n",
    "$ logger -i -t myscript \"Message\"\n",
    "# Aug 2 01:22:53 linuxsvr myscript[12986]: Message\n",
    "\n",
    "\n",
    "```"
   ]
  },
  {
   "cell_type": "markdown",
   "id": "f22aec52-5408-4709-905e-3d5782a16568",
   "metadata": {},
   "source": [
    "# Custom logging function or utility"
   ]
  },
  {
   "cell_type": "markdown",
   "id": "a264822f-6c40-4fb1-8d3e-0f17c71212d7",
   "metadata": {},
   "source": [
    "**Function Definititon**\n",
    "\n",
    "```bash\n",
    "\n",
    "logit () {\n",
    "\n",
    "local LOG_LEVEL=$1\n",
    "shift\n",
    "MSG=$@\n",
    "TIMESTAMP=$(date +\"%Y-%m-%d %T\")\n",
    "\n",
    "if [ $LOG_LEVEL = 'ERROR' ] || $VERBOSE\n",
    "then\n",
    "    echo \"${TIMESTAMP} ${HOST} ${PROGRAM_NAME}[${PID}]: ${LOG_LEVEL} ${MSG}\"\n",
    "    # here we can also use system logger instead of echo.\n",
    "fi\n",
    "}\n",
    "```\n",
    "\n",
    "**Usage**\n",
    "\n",
    "```bash\n",
    "logit INFO \"Processing data.\"\n",
    "fetch-data $HOST || logit ERROR \"Could not fetch data from $HOST\"\n",
    "```"
   ]
  },
  {
   "cell_type": "markdown",
   "id": "f06d590f-2a30-4909-95b3-4842b514acb1",
   "metadata": {},
   "source": [
    "# Summary"
   ]
  },
  {
   "cell_type": "markdown",
   "id": "2043f7cc-ec1f-4d15-b5da-5e04371bd137",
   "metadata": {},
   "source": [
    "* Why log\n",
    "* `Syslog` standard\n",
    "* Generating log messages\n",
    "* Custom logging functions"
   ]
  },
  {
   "cell_type": "code",
   "execution_count": null,
   "id": "ae93590e-bce1-40bb-afa9-0d9a93f0d5d6",
   "metadata": {},
   "outputs": [],
   "source": []
  }
 ],
 "metadata": {
  "kernelspec": {
   "display_name": "Python 3 (ipykernel)",
   "language": "python",
   "name": "python3"
  },
  "language_info": {
   "codemirror_mode": {
    "name": "ipython",
    "version": 3
   },
   "file_extension": ".py",
   "mimetype": "text/x-python",
   "name": "python",
   "nbconvert_exporter": "python",
   "pygments_lexer": "ipython3",
   "version": "3.12.5"
  }
 },
 "nbformat": 4,
 "nbformat_minor": 5
}
