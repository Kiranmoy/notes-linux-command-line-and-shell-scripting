{
 "cells": [
  {
   "cell_type": "markdown",
   "id": "fb5f574b-fa18-4c79-ab14-f75c8a9584aa",
   "metadata": {},
   "source": [
    "# Case Statements"
   ]
  },
  {
   "cell_type": "markdown",
   "id": "558af4a7-82c5-412d-b5b8-9a859842f123",
   "metadata": {},
   "source": [
    "* **Alternative to `if` statements**\n",
    "```\n",
    "if [ \"$VAR\" = \"one\" ]\n",
    "elif [ \"$VAR\" = \"two\" ]\n",
    "elif [ \"$VAR\" = \"three\" ]\n",
    "elif [ \"$VAR\" = \"four\" ]\n",
    "```\n",
    "\n",
    "* May be easier to read than complex `if` statements.\n",
    "* Case patterns are case-sensitive."
   ]
  },
  {
   "cell_type": "markdown",
   "id": "24cddeb6-3963-4d3b-bc81-724e7eeb5b6b",
   "metadata": {},
   "source": [
    "# Syntax"
   ]
  },
  {
   "cell_type": "markdown",
   "id": "a09b7b4c-2f64-45ca-bd8e-88c45c5cf095",
   "metadata": {},
   "source": [
    "```bash\n",
    "case \"$VAR\" in\n",
    "\n",
    "    pattern_1)\n",
    "        # Commands go here.\n",
    "        ;;                    # The double semi-colon acts as a break statement\n",
    "    \n",
    "    pattern_N)\n",
    "        # Commands go here.\n",
    "        ;;                    # The double semi-colon acts as a break statement\n",
    "esac\n",
    "```"
   ]
  },
  {
   "cell_type": "markdown",
   "id": "bf9ac3df-f8d7-4d96-a4fb-a4c9707ff773",
   "metadata": {},
   "source": [
    "# Example 1"
   ]
  },
  {
   "cell_type": "markdown",
   "id": "f8cbaaeb-a5c1-46e8-9e2d-76fc4a849cbb",
   "metadata": {},
   "source": [
    "```bash\n",
    "case \"$1\" in\n",
    "    \n",
    "    start)\n",
    "        /usr/sbin/sshd\n",
    "        ;;\n",
    "    \n",
    "    stop)\n",
    "        kill $(cat /var/run/sshd.pid)\n",
    "        ;;\n",
    "        \n",
    "esac\n",
    "```"
   ]
  },
  {
   "cell_type": "markdown",
   "id": "9b231ac6-b022-4df4-afcf-d6ce8c89a28b",
   "metadata": {},
   "source": [
    "# Example 2"
   ]
  },
  {
   "cell_type": "markdown",
   "id": "146c89eb-4e3a-4fbd-9991-ba9c17803eaf",
   "metadata": {},
   "source": [
    "```bash\n",
    "case \"$1\" in\n",
    "    \n",
    "    start)\n",
    "        /usr/sbin/sshd\n",
    "        ;;\n",
    "    \n",
    "    stop)\n",
    "        kill $(cat /var/run/sshd.pid)\n",
    "        ;;\n",
    "    \n",
    "    *)                                              # *) acts as a default statement, if none of the above pattern matches.\n",
    "        echo \"Usage: $0 start|stop\" ; exit 1\n",
    "        ;;\n",
    "        \n",
    "esac\n",
    "```"
   ]
  },
  {
   "cell_type": "markdown",
   "id": "baf733b8-3678-49dd-8138-5959929e6945",
   "metadata": {},
   "source": [
    "# Example 3"
   ]
  },
  {
   "cell_type": "markdown",
   "id": "a843051d-dccd-4ef7-850f-135a3acc52e8",
   "metadata": {},
   "source": [
    "```bash\n",
    "case \"$1\" in\n",
    "    \n",
    "    start|START)                 # The pipe (|) acts as an OR statement. \n",
    "        /usr/sbin/sshd\n",
    "        ;;\n",
    "    \n",
    "    stop|STOP)                   # The pipe (|) acts as an OR statement. \n",
    "        kill $(cat /var/run/sshd.pid)\n",
    "        ;;\n",
    "    \n",
    "    *)\n",
    "        echo \"Usage: $0 start|stop\" ; exit 1\n",
    "        ;;\n",
    "        \n",
    "esac\n",
    "```"
   ]
  },
  {
   "cell_type": "markdown",
   "id": "f9b05dae-513c-4e7c-89c6-1bebfe7730df",
   "metadata": {},
   "source": [
    "# Example 4"
   ]
  },
  {
   "cell_type": "markdown",
   "id": "532f84c0-5736-4151-92a8-6ecd026a622e",
   "metadata": {},
   "source": [
    "```bash\n",
    "read -p \"Enter y or n: \" ANSWER\n",
    "\n",
    "case \"$ANSWER\" in\n",
    "    \n",
    "    [yY]|[yY][eE][sS])\n",
    "        echo \"You answered yes.\"\n",
    "        ;;\n",
    "    \n",
    "    [nN]|[nN][oO])\n",
    "        echo \"You answered no.\"\n",
    "        ;;\n",
    "    \n",
    "    *)\n",
    "        echo \"Invalid answer.\"\n",
    "        ;;\n",
    "esac\n",
    "```"
   ]
  },
  {
   "cell_type": "markdown",
   "id": "61b7dd3f-e5b3-459c-b2dc-de1f8a0bb049",
   "metadata": {},
   "source": [
    "# Example 5"
   ]
  },
  {
   "cell_type": "markdown",
   "id": "c0a206d8-7f95-40bf-9c5e-fbad33afcb91",
   "metadata": {},
   "source": [
    "```bash\n",
    "read -p \"Enter y or n: \" ANSWER\n",
    "\n",
    "case \"$ANSWER\" in\n",
    "\n",
    "    [yY]*)\n",
    "        echo \"You answered yes.\"\n",
    "        ;;\n",
    "    \n",
    "    *)\n",
    "        echo \"You answered something else.\"\n",
    "        ;;\n",
    "    \n",
    "esac\n",
    "```"
   ]
  },
  {
   "cell_type": "markdown",
   "id": "93795f41-cfdb-4821-9f9a-7131bdd0fff4",
   "metadata": {},
   "source": [
    "# Summary"
   ]
  },
  {
   "cell_type": "markdown",
   "id": "1a84d09e-4a25-44a8-a29e-31cc8b643d70",
   "metadata": {},
   "source": [
    "* Can be used in place of if statements.\n",
    "* Patterns can include wildcards.\n",
    "* Multiple pattern matching using a pipe."
   ]
  },
  {
   "cell_type": "code",
   "execution_count": null,
   "id": "40838aab-6ff8-4281-8952-43c2d48ee105",
   "metadata": {},
   "outputs": [],
   "source": []
  }
 ],
 "metadata": {
  "kernelspec": {
   "display_name": "Python 3 (ipykernel)",
   "language": "python",
   "name": "python3"
  },
  "language_info": {
   "codemirror_mode": {
    "name": "ipython",
    "version": 3
   },
   "file_extension": ".py",
   "mimetype": "text/x-python",
   "name": "python",
   "nbconvert_exporter": "python",
   "pygments_lexer": "ipython3",
   "version": "3.12.5"
  }
 },
 "nbformat": 4,
 "nbformat_minor": 5
}
