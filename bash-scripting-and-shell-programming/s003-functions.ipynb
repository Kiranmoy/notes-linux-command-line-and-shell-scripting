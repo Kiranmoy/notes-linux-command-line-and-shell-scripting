{
 "cells": [
  {
   "cell_type": "markdown",
   "id": "8e0c7778-4449-4f22-8da8-c76c0fb34023",
   "metadata": {},
   "source": [
    "# What You Will Learn"
   ]
  },
  {
   "cell_type": "markdown",
   "id": "c050fcfa-a5a0-4365-bf6d-221e53341d59",
   "metadata": {},
   "source": [
    "* Why to use functions\n",
    "* How to create them\n",
    "* How to use them\n",
    "* Variable scope\n",
    "* Function Parameters\n",
    "* Exit statuses and return codes."
   ]
  },
  {
   "cell_type": "markdown",
   "id": "4bcc2a19-8673-4d6a-94bf-654424921974",
   "metadata": {},
   "source": [
    "# Why use functions? (Keep it DRY!)"
   ]
  },
  {
   "cell_type": "markdown",
   "id": "c94e64f4-332e-4e36-b838-a6740dfda2a4",
   "metadata": {},
   "source": [
    "* Don't repeat yourself!\n",
    "* Don't repeat yourself!\n",
    "* Write once, use many times.\n",
    "* Reduces script length.\n",
    "* Single place to edit and troubleshoot.\n",
    "* Easier to maintain."
   ]
  },
  {
   "cell_type": "markdown",
   "id": "5bb8a330-a32c-4207-90a1-f21624b4ce21",
   "metadata": {},
   "source": [
    "# Functions"
   ]
  },
  {
   "cell_type": "markdown",
   "id": "63e65254-2645-4977-a0f6-01b9fcf474a8",
   "metadata": {},
   "source": [
    "* If you're repeating yourself, use a function.\n",
    "* Reusable code.\n",
    "* Must be defined before use.\n",
    "* Has parameter support"
   ]
  },
  {
   "cell_type": "markdown",
   "id": "4f1045a5-7eb7-455b-a4f7-742818fede71",
   "metadata": {},
   "source": [
    "# Creating a function"
   ]
  },
  {
   "cell_type": "markdown",
   "id": "b4438f24-5e6f-47e6-bd83-f1781104fd05",
   "metadata": {},
   "source": [
    "```bash\n",
    "# Approach 1: Use the \"function\" keyword to define a function explicitly.\n",
    "\n",
    "function function-name() {\n",
    "# Code goes here.\n",
    "}\n",
    "\n",
    "# Approach 2: Without \"function\" keyword\n",
    "\n",
    "function-name() {\n",
    "# Code goes here.\n",
    "}\n",
    "```"
   ]
  },
  {
   "cell_type": "markdown",
   "id": "b4d28f9a-3153-43c3-a9a8-0f30bc16ae7a",
   "metadata": {},
   "source": [
    "# Calling a function"
   ]
  },
  {
   "cell_type": "markdown",
   "id": "404dd0f3-33bf-4505-991a-33546d003532",
   "metadata": {},
   "source": [
    "```bash\n",
    "#!/bin/bash\n",
    "\n",
    "function hello() {\n",
    "    echo \"Hello!\"\n",
    "}\n",
    "\n",
    "hello     # calling function. Don't use () while calling.\n",
    "```"
   ]
  },
  {
   "cell_type": "markdown",
   "id": "8c9051b1-6883-4e69-b548-8dc379240496",
   "metadata": {},
   "source": [
    "# Functions can call other functions"
   ]
  },
  {
   "cell_type": "markdown",
   "id": "58dd8fca-d9fc-473d-8cd2-1f2b28bb4210",
   "metadata": {},
   "source": [
    "```bash\n",
    "#!/bin/bash\n",
    "\n",
    "function hello() {\n",
    "    echo \"Hello!\"\n",
    "    now\n",
    "}\n",
    "\n",
    "function now() {\n",
    "    echo \"It's $(date +%r)\"\n",
    "}\n",
    "\n",
    "hello\n",
    "```"
   ]
  },
  {
   "cell_type": "markdown",
   "id": "174220ba-e83a-457b-91c9-52f88c4e5872",
   "metadata": {},
   "source": [
    "# Do NOT do this"
   ]
  },
  {
   "cell_type": "markdown",
   "id": "be607476-f58d-49df-8f82-74af9195ba99",
   "metadata": {},
   "source": [
    "```bash\n",
    "#!/bin/bash\n",
    "\n",
    "function hello() {\n",
    "    echo \"Hello!\"\n",
    "    now\n",
    "}\n",
    "\n",
    "hello\n",
    "\n",
    "function now() {\n",
    "    echo \"It's $(date +%r)\"\n",
    "}\n",
    "```"
   ]
  },
  {
   "cell_type": "markdown",
   "id": "5962aad4-0692-4018-babf-14511e93e669",
   "metadata": {},
   "source": [
    "# Positional Parameters"
   ]
  },
  {
   "cell_type": "markdown",
   "id": "15cb853e-18e0-4cdd-99a4-15154053d6dc",
   "metadata": {},
   "source": [
    "* Functions can accept parameters.\n",
    "* The first parameter is stored in `$1`.\n",
    "* The second parameter is stored in `$2`, etc.\n",
    "* `$@` contains all of the parameters.\n",
    "* Just like shell scripts.\n",
    "    * `$0` = the script itself, not function name.\n",
    "\n",
    "**Example 1**:\n",
    "```bash\n",
    "#!/bin/bash\n",
    "\n",
    "function hello() {\n",
    "    echo \"Hello $1\"\n",
    "}\n",
    "\n",
    "hello Jason\n",
    "\n",
    "# Output is:\n",
    "# Hello Jason\n",
    "```\n",
    "\n",
    "**Example 2**:\n",
    "```bash\n",
    "#!/bin/bash\n",
    "\n",
    "function hello() {\n",
    "    for NAME in $@\n",
    "    do\n",
    "        echo \"Hello $NAME\"\n",
    "    done\n",
    "}\n",
    "\n",
    "hello Jason Dan Ryan\n",
    "```"
   ]
  },
  {
   "cell_type": "markdown",
   "id": "6528eeb2-a67d-489a-84b8-436ce76237ab",
   "metadata": {},
   "source": [
    "# Variable Scope"
   ]
  },
  {
   "cell_type": "markdown",
   "id": "639a499d-49ff-4997-9078-01cddf4e52ca",
   "metadata": {},
   "source": [
    "* By default, variables are global\n",
    "* Variables have to be defined before used.\n",
    "\n",
    "**Example 1**:\n",
    "```bash\n",
    "GLOBAL_VAR=1\n",
    "\n",
    "# GLOBAL_VAR is available\n",
    "# in the function.\n",
    "my_function\n",
    "```\n",
    "\n",
    "**Example 2**:\n",
    "```bash\n",
    "# GLOBAL_VAR is NOT available\n",
    "# in the function.\n",
    "my_function\n",
    "GLOBAL_VAR=1\n",
    "```\n",
    "\n",
    "**Example 3**:\n",
    "```bash\n",
    "#!/bin/bash\n",
    "\n",
    "my_function() {\n",
    "    GLOBAL_VAR=1\n",
    "}\n",
    "\n",
    "# GLOBAL_VAR not available yet.\n",
    "echo $GLOBAL_VAR\n",
    "my_function\n",
    "\n",
    "# GLOBAL_VAR is NOW available.\n",
    "echo $GLOBAL_VAR\n",
    "```\n",
    "\n",
    "> **Note**: When a global variable is defined within a function, that variable is not accessible until the function is executed."
   ]
  },
  {
   "cell_type": "markdown",
   "id": "982564f9-0b59-4fe7-9284-d6185a15c65b",
   "metadata": {},
   "source": [
    "# Local Variables"
   ]
  },
  {
   "cell_type": "markdown",
   "id": "e19218b4-1f36-4f37-b2de-2e477a210926",
   "metadata": {},
   "source": [
    "* Can only be accessed within the function.\n",
    "* Create using the `local` keyword: `local LOCAL_VAR=1`\n",
    "* Only functions can have local variables.\n",
    "* Best practice to keep variables local in functions."
   ]
  },
  {
   "cell_type": "markdown",
   "id": "6621ec95-6774-47a4-97fa-aa6d2902223a",
   "metadata": {},
   "source": [
    "# Exit Status (Return Codes)"
   ]
  },
  {
   "cell_type": "markdown",
   "id": "9e81b966-9205-4461-a724-dcdedf3e1ff0",
   "metadata": {},
   "source": [
    "* Functions have an exit status.\n",
    "* **To return exit status explicitly, use**: `return <RETURN_CODE>`.\n",
    "* **Implicity**: If no `return` statement is used, then the exit status of the last command executed in the exit status returned by the function.\n",
    "* Valid exit codes range from `0` to `255`.\n",
    "* 0 = success.\n",
    "* Non-zero = used to represent any type of error.\n",
    "* `$?` = the exit status of the previous executed command.\n",
    "\n",
    "**Example 1**:\n",
    "```bash\n",
    "my_function\n",
    "echo $?\n",
    "```\n",
    "\n",
    "**backup_file.sh** version 1:\n",
    "```bash\n",
    "function backup_file () {\n",
    "    if [ -f $1 ]\n",
    "    then\n",
    "        BACK=\"/tmp/$(basename ${1}).$(date +%F).$$\"\n",
    "        echo \"Backing up $1 to ${BACK}\"\n",
    "        cp $1 $BACK\n",
    "    fi\n",
    "}\n",
    "\n",
    "backup_file /etc/hosts\n",
    "\n",
    "if [ $? -eq 0 ]\n",
    "then\n",
    "    echo \"Backup succeeded!\"\n",
    "fi\n",
    "```\n",
    "\n",
    "---\n",
    "\n",
    "**backup_file.sh** version 2:\n",
    "```bash\n",
    "function backup_file () {\n",
    "    if [ -f $1 ]\n",
    "    then\n",
    "        local BACK=\"/tmp/$(basename ${1}).$(date +%F).$$\"\n",
    "        echo \"Backing up $1 to ${BACK}\"\n",
    "        \n",
    "        # The exit status of the function will\n",
    "        # be the exit status of the cp command.\n",
    "        cp $1 $BACK\n",
    "    else\n",
    "        # The file does not exist.\n",
    "        return 1\n",
    "    fi\n",
    "}\n",
    "\n",
    "backup_file /etc/hosts\n",
    "\n",
    "# Make a decision based on the exit status.\n",
    "if [ $? -eq 0 ]\n",
    "then\n",
    "    echo \"Backup succeeded!\"\n",
    "else\n",
    "    echo \"Backup failed!\"\n",
    "    \n",
    "    # About the script and return a non-zero exit status.    \n",
    "    exit 1\n",
    "fi\n",
    "```"
   ]
  },
  {
   "cell_type": "markdown",
   "id": "fc6cf109-1fde-4a5b-8675-4dae99a4c2be",
   "metadata": {},
   "source": [
    "# Shell Script Order and Checklist"
   ]
  },
  {
   "cell_type": "markdown",
   "id": "1344fd3a-2e0f-43f2-b344-08a1f02b13f0",
   "metadata": {},
   "source": [
    "1. Shebang\n",
    "2. Comments/file header\n",
    "3. Global variables\n",
    "4. Functions: Use local variables\n",
    "5. Main script contents\n",
    "6. Exit with an exit status: `exit <STATUS>` at various exit points."
   ]
  },
  {
   "cell_type": "markdown",
   "id": "2d0df7dd-915f-479f-a023-8132f4829744",
   "metadata": {},
   "source": [
    "# Summary"
   ]
  },
  {
   "cell_type": "markdown",
   "id": "db08753e-291f-4dd8-a42b-c05c79df0774",
   "metadata": {},
   "source": [
    "* DRY\n",
    "* Global and local variables\n",
    "* Parameters\n",
    "* Exit statuses"
   ]
  },
  {
   "cell_type": "code",
   "execution_count": null,
   "id": "dc3abe77-fd61-4dd8-8dc2-2553098252e6",
   "metadata": {},
   "outputs": [],
   "source": []
  }
 ],
 "metadata": {
  "kernelspec": {
   "display_name": "Python 3 (ipykernel)",
   "language": "python",
   "name": "python3"
  },
  "language_info": {
   "codemirror_mode": {
    "name": "ipython",
    "version": 3
   },
   "file_extension": ".py",
   "mimetype": "text/x-python",
   "name": "python",
   "nbconvert_exporter": "python",
   "pygments_lexer": "ipython3",
   "version": "3.12.5"
  }
 },
 "nbformat": 4,
 "nbformat_minor": 5
}
