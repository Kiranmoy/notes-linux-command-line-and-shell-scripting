{
 "cells": [
  {
   "cell_type": "markdown",
   "id": "0d8631a0-ba2f-4026-9742-91c04093f8e9",
   "metadata": {},
   "source": [
    "# What you'll learn"
   ]
  },
  {
   "cell_type": "markdown",
   "id": "a546fe89-4670-4402-9dc7-8d9794c5daaa",
   "metadata": {},
   "source": [
    "* What scripts are.\n",
    "* The components that make up a script.\n",
    "* How to use variables in your scripts.\n",
    "* How to perform tests and make decisions.\n",
    "* How to accept command line arguments.\n",
    "* How to accept input from a user."
   ]
  },
  {
   "cell_type": "markdown",
   "id": "633bcdae-bff2-4d91-9bd2-36be9f424978",
   "metadata": {},
   "source": [
    "# Scripts"
   ]
  },
  {
   "cell_type": "markdown",
   "id": "6b8e89d2-8fb5-46d6-8078-2ff0e3f973c2",
   "metadata": {},
   "source": [
    "* A script is a command-line program that contains a series of commands.\n",
    "* Commands contained in the script are executed by an interpreter.\n",
    "* In case of shell scripts, the shell acts as the interpreter.\n",
    "* Anything you can execute at the command line, you can put into the script.\n",
    "* Shell scripts are great at automating tasks."
   ]
  },
  {
   "cell_type": "markdown",
   "id": "c035cae0-fe8f-4a33-bc5d-5361fba95fc6",
   "metadata": {},
   "source": [
    "# Simple Shell Script"
   ]
  },
  {
   "cell_type": "markdown",
   "id": "9bc03770-0ea4-4035-8808-2a49fe929d04",
   "metadata": {},
   "source": [
    "**script.sh**\n",
    "\n",
    "```bash\n",
    "#!/bin/bash    # specifying the shell to be used while executing the script. Here, we mention using the 'bash' shell. If it is not specified, then the system will use the default shell.\n",
    "echo \"Scripting is fun!\"\n",
    "```\n",
    "\n",
    "**Execute the script**:\n",
    "\n",
    "```bash\n",
    "$ chmod 755 script.sh        # setting execute (X) permission for owner, group & others\n",
    "$ ./script.sh\n",
    "Scripting is fun!\n",
    "$\n",
    "```\n",
    "\n",
    "> **Note**: To be able to execute a file/script, we need to make sure that the file/script has **execute** permission set. "
   ]
  },
  {
   "cell_type": "markdown",
   "id": "51a07953-7016-45a2-8a14-8440af958c75",
   "metadata": {},
   "source": [
    "# Shebang (#!)"
   ]
  },
  {
   "cell_type": "markdown",
   "id": "4ef3f142-4a10-42eb-9dd3-5a13e97aab9a",
   "metadata": {},
   "source": [
    "* The **Shebang (#!)** should be the first line of the script, followed by the **interpreter** to be used for interpreting the script commands.\n",
    "* If it is not specified, then the system will use whatever default shell is configured.\n",
    "\n",
    "Here are three scripts, each using a different interpreter.\n",
    "\n",
    "**sript1.sh**\n",
    "```bash\n",
    "#!/bin/csh\n",
    "echo \"This script uses csh as the interpreter.\"\n",
    "```\n",
    "\n",
    "**sript2.sh**\n",
    "```bash\n",
    "#!/bin/ksh\n",
    "echo \"This script uses ksh as the interpreter.\"\n",
    "```\n",
    "\n",
    "**sript3.sh**\n",
    "```bash\n",
    "#!/bin/zsh\n",
    "echo \"This script uses zsh as the interpreter.\"\n",
    "```\n",
    "\n",
    "When we execute a script that contains a **shebang**, what actually happens is that:\n",
    "* the **interpreter** is executed, and\n",
    "* the path used to call the script is passed as an argument to the interpreter.\n",
    "\n",
    "> You can prove this by examining the process table."
   ]
  },
  {
   "cell_type": "markdown",
   "id": "fd29ecdf-7e73-4653-8ed3-cb187eac87a0",
   "metadata": {},
   "source": [
    "# sleepy.sh"
   ]
  },
  {
   "cell_type": "markdown",
   "id": "566ef504-2566-4b6e-88f8-3e62fed6ee8c",
   "metadata": {},
   "source": [
    "```bash\n",
    "#!/bin/bash\n",
    "sleep 90\n",
    "```\n",
    "\n",
    "---\n",
    "\n",
    "```bash\n",
    "$ ./sleepy.sh &       # & is used to run a process in the background\n",
    "[1] 16796\n",
    "\n",
    "$ ps -fp 16796\n",
    "UID PID PPID C STIME TTY TIME CMD\n",
    "jason 16796 16725 0 22:50 pts/0 00:00:00\n",
    "/bin/bash ./sleepy.sh\n",
    "\n",
    "$\n",
    "```"
   ]
  },
  {
   "cell_type": "markdown",
   "id": "07bf5361-5784-4838-a999-02354f2faffa",
   "metadata": {},
   "source": [
    "# The interpreter executes the script"
   ]
  },
  {
   "cell_type": "markdown",
   "id": "4bf224ae-0840-4d5c-b55e-715e2ad39b1e",
   "metadata": {},
   "source": [
    "```bash\n",
    "$ /tmp/sleepy.sh &        # using full path of the script.\n",
    "[1] 16804\n",
    "\n",
    "$ ps -fp 16804\n",
    "UID PID PPID C STIME TTY TIME CMD\n",
    "jason 16804 16725 0 22:51 pts/0 00:00:00\n",
    "/bin/bash /tmp/sleepy.sh\n",
    "\n",
    "$ ps -ef | grep 16804 | grep -v grep\n",
    "jason 16804 16725 0 22:51 pts/0 00:00:00\n",
    "/bin/bash /tmp/sleepy.sh\n",
    "jason 16805 16804 0 22:51 pts/0 00:00:00\n",
    "sleep 90\n",
    "\n",
    "$ pstree –p 16804\n",
    "sleepy.sh(16804)───sleep(16805)\n",
    "\n",
    "$\n",
    "```"
   ]
  },
  {
   "cell_type": "markdown",
   "id": "d3aaebbf-efae-4bca-ae7d-5f7b25620297",
   "metadata": {},
   "source": [
    "# Shebang or Not to Shebang"
   ]
  },
  {
   "cell_type": "markdown",
   "id": "e78bcc3d-2459-4ed2-976f-c525662ff000",
   "metadata": {},
   "source": [
    "* If you do not specify a shebang and specify an interpreter on the first line of the script.\n",
    "* The commands are executed using your current default shell.\n",
    "* You might get lucky. Maybe. Hopefully.\n",
    "* Different shells have slightly varying syntax.\n",
    "* Best practice is to specify the exact interpreter to be used for the script execution."
   ]
  },
  {
   "cell_type": "markdown",
   "id": "3f2e010c-2ee0-4305-b33a-b85be559270d",
   "metadata": {},
   "source": [
    "# More than just shell scripts"
   ]
  },
  {
   "cell_type": "markdown",
   "id": "e2e8a7e6-094c-420f-9c48-a71c02315b77",
   "metadata": {},
   "source": [
    "* It is not necessary to only shell as the interpreter for your script.\n",
    "* You can use any other interpreter program, such as Python, etc.\n",
    "\n",
    "```bash\n",
    "#!/usr/bin/python\n",
    "print \"This is a Python script.\"\n",
    "```\n",
    "\n",
    "---\n",
    "\n",
    "```bash\n",
    "$ chmod 755 hi.py\n",
    "\n",
    "$ ./hi.py\n",
    "This is a Python script.\n",
    "\n",
    "$\n",
    "```"
   ]
  },
  {
   "cell_type": "markdown",
   "id": "ea1ec754-2cf1-47e0-8a75-0016b63249bd",
   "metadata": {},
   "source": [
    "# Variables"
   ]
  },
  {
   "cell_type": "markdown",
   "id": "49adf520-4034-490a-85f5-f94378b960b9",
   "metadata": {},
   "source": [
    "* Storage locations that have a name.\n",
    "* Name-value pairs.\n",
    "* Syntax: `VARIABLE_NAME=\"Value\"`. Make sure not to use any space before or after the equal sign.\n",
    "* Variables are case sensitive.\n",
    "* By convention, variables are uppercase."
   ]
  },
  {
   "cell_type": "markdown",
   "id": "f074101c-8684-4ccf-abbd-758b7ba513cc",
   "metadata": {},
   "source": [
    "# Variable Usage"
   ]
  },
  {
   "cell_type": "markdown",
   "id": "b1e604df-e01a-41f1-9ad8-9ad445c9169b",
   "metadata": {},
   "source": [
    "* To use a variable, simply put a **dollar($) sign** before it.\n",
    "* You can also enclose the variable name in curly braces {} and precede the opening brace with a dollar($) sign.\n",
    "* The curly brace is optional, unless you need to append any additional data exactly after the variable.\n",
    "\n",
    "> Note: If a variable name doesn't exist, the shell will not throw any error. It will simply do nothing and skip it as empty.\n",
    "\n",
    "**Example 1**:\n",
    "```bash\n",
    "#!/bin/bash\n",
    "MY_SHELL=\"bash\"\n",
    "echo \"I like the $MY_SHELL shell.\"\n",
    "```\n",
    "     \n",
    "---\n",
    "\n",
    "**Example 2**:\n",
    "```bash\n",
    "#!/bin/bash\n",
    "MY_SHELL=\"bash\"\n",
    "echo \"I like the ${MY_SHELL} shell.\"\n",
    "```\n",
    "\n",
    "---\n",
    "\n",
    "**Example 3**:\n",
    "```bash\n",
    "#!/bin/bash\n",
    "MY_SHELL=\"bash\"\n",
    "echo \"I am ${MY_SHELL}ing on my keyboard.\"\n",
    "```\n",
    "\n",
    "Output:\n",
    "I am bashing on my keyboard.\n",
    "\n",
    "---\n",
    "\n",
    "**Example 4**:\n",
    "```bash\n",
    "#!/bin/bash\n",
    "MY_SHELL=\"bash\"\n",
    "echo \"I am $MY_SHELLing on my keyboard.\"\n",
    "```\n",
    "\n",
    "Output:\n",
    "I am on my keyboard."
   ]
  },
  {
   "cell_type": "markdown",
   "id": "0624b888-5cea-408d-bc68-f7457896f400",
   "metadata": {},
   "source": [
    "# Assign command output to a variable"
   ]
  },
  {
   "cell_type": "markdown",
   "id": "acf2a328-fbbf-4d54-a46e-bf29a5aee6cb",
   "metadata": {},
   "source": [
    "**Example 1**:\n",
    "\n",
    "```bash\n",
    "#!/bin/bash\n",
    "SERVER_NAME=$(hostname)           # Latest syntax style is to use $(variable)\n",
    "echo \"You are running this script\n",
    "on ${SERVER_NAME}.\"\n",
    "```\n",
    "\n",
    "Output: You are running this script on linuxsvr\n",
    "\n",
    "---\n",
    "\n",
    "**Example 2**:\n",
    "\n",
    "```bash\n",
    "#!/bin/bash\n",
    "SERVER_NAME=`hostname`          # old syntax style is to use back ticks `variable`\n",
    "echo \"You are running this script\n",
    "on ${SERVER_NAME}.\"\n",
    "```\n",
    "\n",
    "Output: You are running this script on linuxsvr"
   ]
  },
  {
   "cell_type": "markdown",
   "id": "3108dd18-241c-4ccb-844f-71be15c33044",
   "metadata": {},
   "source": [
    "# Variable Names"
   ]
  },
  {
   "cell_type": "markdown",
   "id": "ae3153f3-caa2-4838-8c4b-c94dc31a11b8",
   "metadata": {},
   "source": [
    "**Valid**:\n",
    "```bash\n",
    "FIRST3LETTERS=\"ABC\"\n",
    "FIRST_THREE_LETTERS=\"ABC\"\n",
    "firstThreeLetters=\"ABC\"\n",
    "```\n",
    "\n",
    "**Invalid**:\n",
    "```bash\n",
    "3LETTERS=\"ABC\"\n",
    "first-three-letters=\"ABC\"\n",
    "first@Three@Letters=\"ABC\"\n",
    "```"
   ]
  },
  {
   "cell_type": "markdown",
   "id": "b4927793-aec6-47e9-8a0e-8007fcdd204f",
   "metadata": {},
   "source": [
    "# Tests "
   ]
  },
  {
   "cell_type": "markdown",
   "id": "9c1bdf7b-f415-4f5a-9dac-087968661b35",
   "metadata": {},
   "source": [
    "* To create a test, place a conditional expression between the brackets.\n",
    "* We can test for several types of situations.\n",
    "\n",
    "**Syntax**: `[ condition-to-test-for ]`\n",
    "\n",
    "**Example**: `[ -e /etc/passwd ]`\n",
    "\n",
    "This check tests to see if the `/etc/passwd` file exists or not.\n",
    "* If it does, it returns true (**exit status = 0**).\n",
    "* Otherwise, returns false (**exit status = 1**).\n",
    "\n",
    "> Type **`man test`** to see the list of available tests.\n",
    "\n",
    "**File operators (tests)**\n",
    "* **`-d` FILEPATH**:  True if file is a directory.\n",
    "* **`-e` FILEPATH**:  True if file exists.\n",
    "* **`-f` FILEPATH**:  True if file exists and is a regular file.\n",
    "* **`-r` FILEPATH**:  True if file is readable by you.\n",
    "* **`-s` FILEPATH**:  True if file exists and is not empty.\n",
    "* **`-w` FILEPATH**:  True if the file is writable by you.\n",
    "* **`-x` FILEPATH**:  True if the file is executable by you\n",
    "\n",
    "**String operators (tests)**:\n",
    "* **`-z` STRING**:  True if string is empty.\n",
    "* **`-n` STRING**:  True if string is not empty.\n",
    "* **STRING1 = STRING2**:  True if the strings are equal.\n",
    "* **STRING1 != STRING2**:  True if the strings are not equal"
   ]
  },
  {
   "cell_type": "markdown",
   "id": "076ece0c-782c-4ac4-a6e3-e3ce2b701030",
   "metadata": {},
   "source": [
    "# Arithmetic operators (tests)"
   ]
  },
  {
   "cell_type": "markdown",
   "id": "592ad5cf-e4f9-42cc-a13c-0050be70e39a",
   "metadata": {},
   "source": [
    "* `arg1 –eq arg2`: True if arg1 is equal to arg2.\n",
    "* `arg1 –ne arg2`: True if arg1 is not equal to arg2.\n",
    "* `arg1 –lt arg2`: True if arg1 is less than arg2.\n",
    "* `arg1 –le arg2`: True if arg1 is less than or equal to arg2.\n",
    "* `arg1 –gt arg2`: True if arg1 is greater than arg2.\n",
    "* `arg1 –ge arg2`: True if arg1 is greater than or equal to arg2."
   ]
  },
  {
   "cell_type": "markdown",
   "id": "fbc2de05-44a2-4f53-bd28-b857ecde03fb",
   "metadata": {},
   "source": [
    "# Making Decisions - The if statement"
   ]
  },
  {
   "cell_type": "markdown",
   "id": "d830c332-f297-4435-8a25-8940d7030e9f",
   "metadata": {},
   "source": [
    "\n",
    "**Syntax**:\n",
    "```bash\n",
    "if [ condition-is-true ]\n",
    "then\n",
    "    command 1\n",
    "    command 2\n",
    "    command N\n",
    "fi\n",
    "```\n",
    "\n",
    "**Example**:\n",
    "```bash\n",
    "#!/bin/bash\n",
    "\n",
    "MY_SHELL=\"bash\"\n",
    "\n",
    "if [ \"$MY_SHELL\" = \"bash\" ]\n",
    "then\n",
    "    echo \"You seem to like the bash shell.\"\n",
    "fi\n",
    "```\n",
    "\n",
    "Output: You seem to like the bash shell.\n",
    "\n",
    "> Note: Best practice is to enclose variables with quotes while performing any conditional test to avoid any unintended side effects."
   ]
  },
  {
   "cell_type": "markdown",
   "id": "1a8d6291-192c-4656-b5ad-69e7f4b4b7cb",
   "metadata": {},
   "source": [
    "# if-else"
   ]
  },
  {
   "cell_type": "markdown",
   "id": "0ef4877c-54e4-40de-8f42-f429771202bb",
   "metadata": {},
   "source": [
    "**Syntax**:\n",
    "```bash\n",
    "if [ condition-is-true ]\n",
    "then\n",
    "    command N\n",
    "else\n",
    "    command N\n",
    "fi\n",
    "```\n",
    "\n",
    "**Example**:\n",
    "```bash\n",
    "#!/bin/bash\n",
    "\n",
    "MY_SHELL=\"csh\"\n",
    "\n",
    "if [ \"$MY_SHELL\" = \"bash\" ]\n",
    "then\n",
    "    echo \"You seem to like the bash shell.\"\n",
    "else\n",
    "    echo \"You don't seem to like the bash shell.\"\n",
    "fi\n",
    "```"
   ]
  },
  {
   "cell_type": "markdown",
   "id": "506d9973-11dd-4d17-b43e-d0b0c1114cb7",
   "metadata": {},
   "source": [
    "# if-elif-else"
   ]
  },
  {
   "cell_type": "markdown",
   "id": "89f569c5-792d-4d0e-96b8-540056fd1859",
   "metadata": {},
   "source": [
    "**Syntax**:\n",
    "```bash\n",
    "if [ condition-is-true ]\n",
    "then\n",
    "    command N\n",
    "elif [ condition-is-true ]\n",
    "then\n",
    "    command N\n",
    "else\n",
    "    command N\n",
    "fi\n",
    "```\n",
    "\n",
    "**Example**:\n",
    "```bash\n",
    "#!/bin/bash\n",
    "\n",
    "MY_SHELL=\"csh\"\n",
    "\n",
    "if [ \"$MY_SHELL\" = \"bash\" ]\n",
    "then\n",
    "    echo \"You seem to like the bash shell.\"\n",
    "elif [ \"$MY_SHELL\" = \"csh\" ]\n",
    "then\n",
    "    echo \"You seem to like the csh shell.\"\n",
    "else\n",
    "    echo \"You don't seem to like the bash or csh shells.\"\n",
    "fi\n",
    "```"
   ]
  },
  {
   "cell_type": "markdown",
   "id": "4d0504ca-4c05-4498-923e-084e938ddbe0",
   "metadata": {},
   "source": [
    "# For loop"
   ]
  },
  {
   "attachments": {
    "b97e83c6-e78a-4e56-a825-dcccf5434a3f.png": {
     "image/png": "[encoded data removed]"
    }
   },
   "cell_type": "markdown",
   "id": "8b711ef5-d43c-4d4e-b9d0-2432d4d73fde",
   "metadata": {},
   "source": [
    "**Syntax**:\n",
    "```bash\n",
    "for VARIABLE_NAME in ITEM_1 ITEM_N\n",
    "do\n",
    "    command 1\n",
    "    command 2\n",
    "    command N\n",
    "done\n",
    "```\n",
    "\n",
    "**Example 1**:\n",
    "```bash\n",
    "#!/bin/bash\n",
    "for COLOR in red green blue\n",
    "do\n",
    "echo \"COLOR: $COLOR\"\n",
    "done\n",
    "```\n",
    "\n",
    "![image.png](attachment:b97e83c6-e78a-4e56-a825-dcccf5434a3f.png)\n",
    "\n",
    "**Example 2**:\n",
    "```bash\n",
    "#!/bin/bash\n",
    "\n",
    "COLORS=\"red green blue\"\n",
    "\n",
    "for COLOR in $COLORS\n",
    "do\n",
    "    echo \"COLOR: $COLOR\"\n",
    "done\n",
    "```\n",
    "\n",
    "**Example 3**:\n",
    "```bash\n",
    "#!/bin/bash\n",
    "\n",
    "PICTURES=$(ls *jpg)\n",
    "DATE=$(date +%F)\n",
    "\n",
    "for PICTURE in $PICTURES\n",
    "do\n",
    "    echo \"Renaming ${PICTURE} to ${DATE}-${PICTURE}\"\n",
    "    mv ${PICTURE} ${DATE}-${PICTURE}\n",
    "done\n",
    "```\n",
    "\n",
    "----\n",
    "\n",
    "**Executing Example 3 script**:\n",
    "\n",
    "```bash\n",
    "$ ls\n",
    "bear.jpg man.jpg pig.jpg rename-pics.sh\n",
    "\n",
    "$ ./rename-pics.sh\n",
    "Renaming bear.jpg to 2015-03-06-bear.jpg\n",
    "Renaming man.jpg to 2015-03-06-man.jpg\n",
    "Renaming pig.jpg to 2015-03-06-pig.jpg\n",
    "\n",
    "$ ls\n",
    "2015-03-06-bear.jpg 2015-03-06-man.jpg\n",
    "2015-03-06-pig.jpg rename-pics.sh\n",
    "\n",
    "$\n",
    "```"
   ]
  },
  {
   "cell_type": "markdown",
   "id": "b09e32fb-729d-4ad1-852f-e61d8f9e7d3b",
   "metadata": {},
   "source": [
    "# Positional Parameters"
   ]
  },
  {
   "attachments": {},
   "cell_type": "markdown",
   "id": "e6ef8155-76c2-4f76-8ae3-a0e3170a7342",
   "metadata": {},
   "source": [
    "```bash\n",
    "$ script.sh parameter1 parameter2 parameter3\n",
    "```\n",
    "* `$0`: \"script.sh\"\n",
    "* `$1`: \"parameter1\"\n",
    "* `$2`: \"parameter2\"\n",
    "* `$3`: \"parameter3\"\n",
    "\n",
    "**Example: `archive_user.sh` version 1**\n",
    "```bash\n",
    "#!/bin/bash\n",
    "\n",
    "echo \"Executing script: $0\"\n",
    "echo \"Archiving user: $1\"\n",
    "\n",
    "# Lock the account\n",
    "passwd –l $1\n",
    "\n",
    "# Create an archive of the home directory.\n",
    "tar cf /archives/${1}.tar.gz /home/${1}\n",
    "```\n",
    "\n",
    "**Execute: `archive_user.sh` version 1**\n",
    "```bash\n",
    "$ ./archive_user.sh elvis\n",
    "Executing script: ./archive_user.sh\n",
    "Archiving user: elvis\n",
    "passwd: password expiry information changed.\n",
    "tar: Removing leading '/' from member names\n",
    "\n",
    "$\n",
    "```\n",
    "\n",
    "---\n",
    "\n",
    "**Example: `archive_user.sh` version 2**\n",
    "```bash\n",
    "#!/bin/bash\n",
    "\n",
    "USER=$1 # The first parameter is the user.\n",
    "echo \"Executing script: $0\"\n",
    "echo \"Archiving user: $USER\"\n",
    "\n",
    "# Lock the account\n",
    "passwd –l $USER\n",
    "\n",
    "# Create an archive of the home directory.\n",
    "tar cf /archives/${USER}.tar.gz /home/${USER}\n",
    "```\n",
    "\n",
    "---\n",
    "\n",
    "**Example: `archive_user.sh` version 3**\n",
    "```bash\n",
    "#!/bin/bash\n",
    "\n",
    "echo \"Executing script: $0\"\n",
    "for USER in $@                 # Note the array or list of all positional command-line arguments is represented by $@\n",
    "do\n",
    "echo \"Archiving user: $USER\"\n",
    "\n",
    "# Lock the account\n",
    "passwd –l $USER\n",
    "\n",
    "# Create an archive of the home directory.\n",
    "tar cf /archives/${USER}.tar.gz /home/${USER}\n",
    "done\n",
    "```\n",
    "\n",
    "**Execute: `archive_user.sh` version 3**\n",
    "```bash\n",
    "$ ./archive_user.sh chet joe\n",
    "Executing script: ./archive_user.sh\n",
    "Archiving user: chet\n",
    "passwd: password expiry information changed.\n",
    "tar: Removing leading '/' from member names\n",
    "Archiving user: joe\n",
    "passwd: password expiry information changed.\n",
    "tar: Removing leading '/' from member names\n",
    "\n",
    "$\n",
    "```"
   ]
  },
  {
   "cell_type": "markdown",
   "id": "89a88a38-01a0-4a2b-929a-2e531b940278",
   "metadata": {},
   "source": [
    "# Accepting User Input (STDIN)"
   ]
  },
  {
   "cell_type": "markdown",
   "id": "9641b83c-f53b-425f-952a-887fb2022f84",
   "metadata": {},
   "source": [
    "The read command accepts STDIN.\n",
    "\n",
    "**Syntax**:\n",
    "```bash\n",
    "read -p \"PROMPT\" VARIABLE\n",
    "```\n",
    "\n",
    "**Example: `archive_user.sh`**\n",
    "```bash\n",
    "#!/bin/bash\n",
    "\n",
    "read –p \"Enter a user name: \" USER\n",
    "echo \"Archiving user: $USER\"\n",
    "\n",
    "# Lock the account\n",
    "passwd –l $USER\n",
    "\n",
    "# Create an archive of the home directory.\n",
    "tar cf /archives/${USER}.tar.gz /home/${USER}\n",
    "```\n",
    "\n",
    "**Execute: `archiver_user.sh`**\n",
    "```bash\n",
    "$ ./archive_user.sh\n",
    "Enter a user name: mitch\n",
    "Archiving user: mitch\n",
    "passwd: password expiry information changed.\n",
    "tar: Removing leading '/' from member names\n",
    "\n",
    "$\n",
    "```"
   ]
  },
  {
   "cell_type": "markdown",
   "id": "593c9ad2-1301-4cc9-ae7c-a8a776c7562b",
   "metadata": {},
   "source": [
    "# Summary"
   ]
  },
  {
   "attachments": {
    "426e25c5-7643-4ce1-a451-4364caab9bd3.png": {
     "image/png": "[encoded data removed]"
    }
   },
   "cell_type": "markdown",
   "id": "16f2f868-47b2-42dd-83c6-0369256d0ebb",
   "metadata": {},
   "source": [
    "```bash\n",
    "#!/path/to/interpreter\n",
    "\n",
    "VARIABLE_NAME=\"Value\"\n",
    "$VARIABLE_NAME\n",
    "${VARIABLE_NAME}\n",
    "VARIABLE_NAME=$(command)\n",
    "\n",
    "\n",
    "\n",
    "# if-elif-else statement\n",
    "\n",
    "if [ condition-is-true ]\n",
    "then\n",
    "    commands\n",
    "elif [ condition-is-true ]\n",
    "then\n",
    "    commands\n",
    "else\n",
    "    commands\n",
    "fi\n",
    "\n",
    "\n",
    "# For Loop\n",
    "\n",
    "for VARIABLE_NAME in ITEM_1 ITEM_N\n",
    "do\n",
    "    command 1\n",
    "    command 2\n",
    "    command N\n",
    "done\n",
    "\n",
    "```\n",
    "\n",
    "![image.png](attachment:426e25c5-7643-4ce1-a451-4364caab9bd3.png)"
   ]
  },
  {
   "cell_type": "code",
   "execution_count": null,
   "id": "1ea841e2-8928-4db8-a7a6-5ca00161fd35",
   "metadata": {},
   "outputs": [],
   "source": []
  }
 ],
 "metadata": {
  "kernelspec": {
   "display_name": "Python 3 (ipykernel)",
   "language": "python",
   "name": "python3"
  },
  "language_info": {
   "codemirror_mode": {
    "name": "ipython",
    "version": 3
   },
   "file_extension": ".py",
   "mimetype": "text/x-python",
   "name": "python",
   "nbconvert_exporter": "python",
   "pygments_lexer": "ipython3",
   "version": "3.12.5"
  }
 },
 "nbformat": 4,
 "nbformat_minor": 5
}
