{
 "cells": [
  {
   "cell_type": "markdown",
   "id": "ec8f5e7a-d4b1-4a36-911b-f405fa737a03",
   "metadata": {},
   "source": [
    "# Sed and Streams"
   ]
  },
  {
   "cell_type": "markdown",
   "id": "32bab137-0398-47f2-94b7-4298a9082820",
   "metadata": {},
   "source": [
    "* **Sed** = Stream editor.\n",
    "* A **stream** is data that travels from:\n",
    "    * One process to another through a pipe.\n",
    "    * One file to another as a redirect.\n",
    "    * One device to another.\n",
    "* Standard Input = Standard Input Stream\n",
    "* Standard Output = Standard Output Stream\n",
    "* Standard Error = Standard Error Stream\n",
    "* Streams are typically textual data."
   ]
  },
  {
   "cell_type": "markdown",
   "id": "c7172434-e511-4ef5-af5a-4e22251a593f",
   "metadata": {},
   "source": [
    "# Sed Usage"
   ]
  },
  {
   "cell_type": "markdown",
   "id": "a59aee3b-926b-488c-9132-b8172d908882",
   "metadata": {},
   "source": [
    "The `sed` command is used to perform basic text transformations on streams at runtime\n",
    "* It doesn't actually modify the file.\n",
    "* To save the modified content by `sed`, we need to redirect the modified content back to the file.\n",
    "* Also, by using the `-i` option with `sed`, we can directly modify the file content (**in-place editing**).\n",
    "\n",
    "**Examples**:\n",
    "* Substitute some text for other text.\n",
    "* Remove lines.\n",
    "* Append text after given lines.\n",
    "* Insert text before certain lines.\n",
    "\n",
    "**Sed** is used programmatically, not interactively like Vi, Vim, etc.\n",
    "\n",
    "**Sed** is a standalone utility (**user program**) and not a shell built-in.\n",
    "\n",
    "```bash\n",
    "$ type -a sed\n",
    "\n",
    "sed is /usr/bin/sed\n",
    "sed is /bin/sed\n",
    "```\n",
    "\n",
    "**Man Page**: `man sed`\n"
   ]
  },
  {
   "cell_type": "markdown",
   "id": "c4aa9d4a-715e-46be-8e93-d801cd978d24",
   "metadata": {},
   "source": [
    "# Example 1"
   ]
  },
  {
   "cell_type": "markdown",
   "id": "7880e143-6c50-4abb-a265-89e90837354c",
   "metadata": {},
   "source": [
    "The most common usage of the `sed` command is to act as a command-line version of find & replace.\n",
    "\n",
    "**Syntax**: `sed 's/SEARCH_PATTERN/REPLACEMENT_TEXT/FLAGS' filename1 filename2 ..'\n",
    "* **s** represents a substitute operation in sed.\n",
    "* The **SEARCH_PATTERN** can be a regular expression.\n",
    "* The **REPLACEMENT_TEXT** is a string to be substituted as a replacement.\n",
    "* The **FLAGS** can be any option/flag for `sed` command.\n",
    "\n",
    "**Example**: Replace the text 'assistant' with 'assistant to the'.\n",
    "\n",
    "```bash\n",
    "$ cat manager.txt\n",
    "# Dwight is the assistant regional manager.\n",
    "\n",
    "$ sed 's/assistant/assistant to the/' manager.txt\n",
    "# Dwight is the assistant to the regional manager.\n",
    "\n",
    "$ cat manager.txt\n",
    "# Dwight is the assistant regional manager.\n",
    "\n",
    "$ sed 's/ASSISTANT/assistant to the/' manager.txt            # did not substitute, since match not found for 'ASSISTANT'\n",
    "# Dwight is the assistant to the regional manager.\n",
    " \n",
    "$ sed 's/ASSISTANT/assistant to the/i' manager.txt          # Using `i` or `I` flag for case insensitive search.\n",
    "# Dwight is the assistant to the regional manager.\n",
    "\n",
    "$ sed 's/ASSISTANT/assistant to the/i' manager.txt          # Using `i` or `I` flag for case insensitive search.\n",
    "# Dwight is the assistant to the regional manager.\n",
    "```\n",
    "\n",
    "> **Note**:\n",
    "> * Here, the `sed` command doesn't modify the original file.\n",
    "> * It just reads the file content, does the substitution at runtime, and displays it on the console.\n",
    "> * The `sed` command can also have the option to modify the file directly.\n",
    "> * The `sed` command is case-sensitive.\n"
   ]
  },
  {
   "cell_type": "markdown",
   "id": "8bdb8ef3-9ec5-40bf-81ee-0dc888714829",
   "metadata": {},
   "source": [
    "# Example 2"
   ]
  },
  {
   "cell_type": "markdown",
   "id": "a24aab57-bae3-4ae6-9926-2b651642953d",
   "metadata": {},
   "source": [
    "\n",
    "```bash\n",
    "$ cat love.txt\n",
    "I love my wife.\n",
    "I love my wife with all my heart.\n",
    "This is line 2.\n",
    "I love my wife and my wife loves me. Also, my wife loves the cat.\n",
    "\n",
    "\n",
    "$ sed 's/my wife/sed/' love.txt      \n",
    "I love sed.\n",
    "I love sed with all my heart.\n",
    "This is line 2.\n",
    "I love sed and my wife loves me. Also, my wife loves the cat.\n",
    "```\n",
    "\n",
    "**Here**:\n",
    "* `sed` reads each line, searches for a match, and replaces the **search-patterns**.\n",
    "* If there are multiple **search-patterns**, then by default,\n",
    "    * `sed` replaces only the first occurrence of the search pattern found.\n",
    "    * Rest of the matching search pattern on the line will remain unchanged\n",
    "* We can use the `g` flag, that is, global replace, which will replace all occurrences **matching the search-pattern** in a line.\n",
    "\n",
    "```bash\n",
    "$ sed 's/my wife/sed/g' love.txt\n",
    "I love sed.\n",
    "I love sed with all my heart.\n",
    "This is line 2.\n",
    "I love sed and sed loves me. Also, sed loves the cat.\n",
    "```\n",
    "\n",
    "**Also, we can use a number instead of `g` flag to indicate the specific occurrence we want to replace.**\n",
    "\n",
    "```bash\n",
    "# replace the 2nd occurrence of 'my wife` pattern only.\n",
    "\n",
    "$ sed 's/my wife/sed/2' love.txt\n",
    "I love my wife.\n",
    "I love my wife with all my heart.\n",
    "This is line 2.\n",
    "I love my wife and sed loves me. Also, my wife loves the cat.\n",
    "```"
   ]
  },
  {
   "cell_type": "markdown",
   "id": "21b89808-464c-4386-83b2-85a341bef0f7",
   "metadata": {},
   "source": [
    "# Example 3"
   ]
  },
  {
   "cell_type": "markdown",
   "id": "86cc5d89-a105-4137-91b4-3866b46a9ef9",
   "metadata": {},
   "source": [
    "Here, we are modifying the content and redirecting the modified content to a new file.\n",
    "\n",
    "```bash\n",
    "$ sed 's/my wife/sed/g' love.txt > my-new-love.txt\n",
    "\n",
    "$ cat my-new-love.txt\n",
    "I love sed.\n",
    "I love sed with all my heart.\n",
    "This is line 2.\n",
    "I love sed and sed loves me. Also, sed loves the cat.\n",
    "```\n",
    "\n",
    "Creating a backup file and directly modifying the content of the file (**in-place editing**)\n",
    "```bash\n",
    "$ sed -i.bak 's/my wife/sed/' love.txt            # creating backup file with .back extension and performed in-place editing in the original file\n",
    "\n",
    "$ cat love.txt\n",
    "I love sed.\n",
    "I love sed with all my heart.\n",
    "This is line 2.\n",
    "I love sed and my wife loves me. Also, my wife loves the cat.\n",
    "\n",
    "$ cat love.txt.bak\n",
    "I love my wife.\n",
    "I love my wife with all my heart.\n",
    "This is line 2.\n",
    "I love my wife and my wife loves me. Also, my wife loves the cat.\n",
    "```\n",
    "\n",
    "> Note: don't use space after `-i` option. Otherwise, it will throw an error.\n",
    "\n",
    "```bash\n",
    "$ sed -i .bak 's/my wife/sed/' love.txt\n",
    "sed: -e expression #1, char 1: unknown command: `.'\n",
    "```"
   ]
  },
  {
   "cell_type": "markdown",
   "id": "d6f6d0f9-be51-4706-884d-5f6305b074f8",
   "metadata": {},
   "source": [
    "# 13.00 timestamp"
   ]
  },
  {
   "cell_type": "code",
   "execution_count": null,
   "id": "f59f8444-3f21-4fc4-bbd1-a9c899beb734",
   "metadata": {},
   "outputs": [],
   "source": []
  }
 ],
 "metadata": {
  "kernelspec": {
   "display_name": "Python 3 (ipykernel)",
   "language": "python",
   "name": "python3"
  },
  "language_info": {
   "codemirror_mode": {
    "name": "ipython",
    "version": 3
   },
   "file_extension": ".py",
   "mimetype": "text/x-python",
   "name": "python",
   "nbconvert_exporter": "python",
   "pygments_lexer": "ipython3",
   "version": "3.12.5"
  }
 },
 "nbformat": 4,
 "nbformat_minor": 5
}
