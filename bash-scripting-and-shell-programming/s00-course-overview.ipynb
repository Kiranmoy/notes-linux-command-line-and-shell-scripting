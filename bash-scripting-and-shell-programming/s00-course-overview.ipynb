{
 "cells": [
  {
   "cell_type": "markdown",
   "id": "d6f2365c-d45c-4367-a2f0-1ed6f5ed2eb5",
   "metadata": {},
   "source": [
    "# Shell Scripting Course Overview"
   ]
  },
  {
   "cell_type": "markdown",
   "id": "217a108c-5fb4-49af-9d47-986b9cf296b3",
   "metadata": {},
   "source": [
    "* Exactly how to get started writing shell scripts.\n",
    "* What the shebang is and why every one of your scripts needs one.\n",
    "* How to create and use variables.\n",
    "* Testing and decision making.\n",
    "* Command line argument processing\n",
    "* Input and output, including user input\n",
    "* If statements\n",
    "* Exit statuses\n",
    "* Functions\n",
    "* Wildcards\n",
    "* For loops\n",
    "* Case statements\n",
    "* Logging\n",
    "* Debugging tips\n",
    "* Bash shell options\n",
    "* Data Manipulation and Text Transformations with Sed"
   ]
  },
  {
   "cell_type": "code",
   "execution_count": null,
   "id": "178e7c35-f451-4e5a-8ec9-0b67988aea17",
   "metadata": {},
   "outputs": [],
   "source": []
  }
 ],
 "metadata": {
  "kernelspec": {
   "display_name": "Python 3 (ipykernel)",
   "language": "python",
   "name": "python3"
  },
  "language_info": {
   "codemirror_mode": {
    "name": "ipython",
    "version": 3
   },
   "file_extension": ".py",
   "mimetype": "text/x-python",
   "name": "python",
   "nbconvert_exporter": "python",
   "pygments_lexer": "ipython3",
   "version": "3.12.5"
  }
 },
 "nbformat": 4,
 "nbformat_minor": 5
}
