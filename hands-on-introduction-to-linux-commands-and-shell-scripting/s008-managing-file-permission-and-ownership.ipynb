{
 "cells": [
  {
   "cell_type": "markdown",
   "id": "d257e29e-5ef6-4593-a33d-8274373c7422",
   "metadata": {},
   "source": [
    "# Why do we need file permissions and ownership?"
   ]
  },
  {
   "cell_type": "markdown",
   "id": "28e9434e-ec49-438d-a1d1-ce6576449f18",
   "metadata": {},
   "source": [
    "* Linux is a multi-user operating system. This means that by default, other users will be able to view any files you store on the system.\n",
    "* However, you may have some files - such as your personal tax documents or your employer's intellectual property documents - that are private or confidential.\n",
    "* **How can you protect these sensitive documents from being viewed or modified by others?**"
   ]
  },
  {
   "cell_type": "markdown",
   "id": "95f09cf5-e04b-4b6e-8f30-e561f1106ce2",
   "metadata": {},
   "source": [
    "# File ownership and permissions"
   ]
  },
  {
   "cell_type": "markdown",
   "id": "9bd9f2d4-c90c-42f9-b582-be699fdac143",
   "metadata": {},
   "source": [
    "There are three possible levels of file ownership in Linux: **user**, **group**, and **other**.\n",
    "* Whoever creates a file, namely the user at the time of creation, becomes the owner of that file by default.\n",
    "* A **group** of users can also share ownership of a file.\n",
    "* The **other** category essentially refers to anyone in the universe with access to your Linux machine - careful when assigning ownership permission to this level!\n",
    "\n",
    "***Only the official owner of a file is allowed to change its permissions.*** This means that only owners can decide who can read the file, write to it, or execute it."
   ]
  },
  {
   "cell_type": "markdown",
   "id": "11ae92db-5c3b-4403-a418-ead2799ca97e",
   "metadata": {},
   "source": [
    "# Viewing file permissions"
   ]
  },
  {
   "cell_type": "markdown",
   "id": "a8cd4896-607c-4155-b68d-09015b552385",
   "metadata": {},
   "source": [
    "Let's say you've entered the following lines of code:\n",
    "\n",
    "```bash\n",
    "$ echo \"Who can read this file?\" > my_new_file\n",
    "$ more my_new_file\n",
    "Who can read this file?\n",
    "$ ls -l my_new_file\n",
    "-rw-r--r-- 1 theia users 25 Dec 22 17:47 x\n",
    "```\n",
    "\n",
    "Here we've echoed the string **\"Who can read this file?\"** into a new file called `my_new_file`. \n",
    "* The next line uses the **more** command to print the contents of the new file.\n",
    "* Finally, the `ls` command with the `-l` option displays the file's (default) permissions: `rw-r--r--`\n",
    "\n",
    "The first three characters (`rw-`) define the **user permissions**, the next three (`r--`) the **group permissions**, and the final three (`r--`) the **other permissions**.\n",
    "* So you, being the user, have the permission `rw-`, which means you have read and write permissions by default, but do not have execution permissions. \n",
    "* Otherwise, there would be an `x` in place of the last `-`.\n",
    "\n",
    "Thus, by looking at the entire line, `rw-r--r--`, you can see that anyone can read the file, nobody can execute it, and you are the only user that can write to it.\n",
    "\n",
    "> **Note**:\n",
    "> * The `-` at the very beginning of the line in the terminal means that the permissions are referring to a file.\n",
    "> * If you were getting the permissions to a directory, you would see a `d` in the front for \"directory\"."
   ]
  },
  {
   "cell_type": "markdown",
   "id": "e146b44b-caf1-4396-a7f7-36ada105b42c",
   "metadata": {},
   "source": [
    "# Directory permissions"
   ]
  },
  {
   "cell_type": "markdown",
   "id": "44d18800-5da8-4889-b514-c7ef34e5b7c2",
   "metadata": {},
   "source": [
    "* The permissions for directories are similar but distinct for files. \n",
    "* Though directories use the same rwx format, the symbols have slightly different meanings.\n",
    "\n",
    "The following table illustrates the meanings of each permission for directories:\n",
    "\n",
    "| Directory Permission | Permissible action(s) |\n",
    "| --- | --- |\n",
    "| `r` | List directory contents using the `ls` command |\n",
    "| `w` | Add or remove files or directories |\n",
    "| `x` | Enter directory using cd command |\n",
    "\n",
    "* Setting appropriate permissions on directories is a best practice for both security and stability reasons.\n",
    "* Though this reading focuses on security, you will learn more about other reasons for setting file permissions and ownership later in this course."
   ]
  },
  {
   "cell_type": "markdown",
   "id": "8627aaf0-aee0-4010-bb02-3b77f47aec9d",
   "metadata": {},
   "source": [
    "# Making a file private"
   ]
  },
  {
   "cell_type": "markdown",
   "id": "6b1625e8-d8c5-47f8-b772-744d79d7f314",
   "metadata": {},
   "source": [
    "* You can revoke read permissions from your group and all other users by using the `chmod` command.\n",
    "* Ensure successful modification by using the `ls -l` command again:\n",
    "\n",
    "```bash\n",
    "chmod go-r my_new_file\n",
    "ls -l my_new_file\n",
    "-rw------- 1 theia users 24 Dec 22 18:49 my_new_file\n",
    "```\n",
    "\n",
    "In the `chmod` command, `go-r` is the permission change to be applied, which in this case means removing for the **group (`g`)** and **others (`o`)** the **read (`r`)** permission. The `chmod` command can be used with both files and directories."
   ]
  },
  {
   "cell_type": "markdown",
   "id": "6f9dc0a5-1f06-41d0-935f-17f5dc61de37",
   "metadata": {},
   "source": [
    "# Executable files - looking ahead"
   ]
  },
  {
   "cell_type": "markdown",
   "id": "df785b2b-9cff-423e-86c3-a91b368e9be0",
   "metadata": {},
   "source": [
    "You've learned what it means to read or write to a file, but **what does it mean to have permissions to execute a file in Linux?**\n",
    "* A Linux file is executable if it contains instructions that can be directly interpreted by the operating system.\n",
    "* Basically, an executable file is a ready-to-run program.\n",
    "* They're also referred to as **binaries** or **executables**.\n",
    "\n",
    "In this course, you will become very familiar with a particular kind of executable called a script, which is a program written in a scripting language. \n",
    "\n",
    "You'll learn all about shell scripting, or more specifically, Bash scripting, which is writing scripts in Bash (born-again shell), a very popular shell scripting language. \n",
    "\n",
    "A **shell script** is a plain text file that can be interpreted by a shell.\n",
    "\n",
    "Formally speaking, for a text file to be considered an executable shell script for a given user, it needs to have two things:\n",
    "* Execute permissions set for that user\n",
    "* A directive, called a **\"shebang\"**, in its first line to declare itself to the operating system as a binary\n",
    "\n",
    "All of this will become clearer to you soon when we get to the topic of shell scripting."
   ]
  },
  {
   "cell_type": "code",
   "execution_count": null,
   "id": "af49d519-0334-4feb-9cc9-841a3817157f",
   "metadata": {},
   "outputs": [],
   "source": []
  }
 ],
 "metadata": {
  "kernelspec": {
   "display_name": "Python 3 (ipykernel)",
   "language": "python",
   "name": "python3"
  },
  "language_info": {
   "codemirror_mode": {
    "name": "ipython",
    "version": 3
   },
   "file_extension": ".py",
   "mimetype": "text/x-python",
   "name": "python",
   "nbconvert_exporter": "python",
   "pygments_lexer": "ipython3",
   "version": "3.12.5"
  }
 },
 "nbformat": 4,
 "nbformat_minor": 5
}
