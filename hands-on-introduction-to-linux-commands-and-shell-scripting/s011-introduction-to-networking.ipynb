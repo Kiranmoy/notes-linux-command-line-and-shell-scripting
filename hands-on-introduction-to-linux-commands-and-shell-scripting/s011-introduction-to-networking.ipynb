{
 "cells": [
  {
   "cell_type": "markdown",
   "id": "c4ab7b7c-4ebe-4e46-84c3-f51c7a90edb8",
   "metadata": {},
   "source": [
    "# Learning Objectives"
   ]
  },
  {
   "cell_type": "markdown",
   "id": "bdc01e33-5824-40c2-a5c5-139c3d86826b",
   "metadata": {},
   "source": [
    "After completing this reading, you will be able to:\n",
    "* Describe computer networks, network resources, and network nodes\n",
    "* Explain hosts, clients, and servers\n",
    "* Describe packets and pings\n",
    "* Explain URLs and IP addresses"
   ]
  },
  {
   "cell_type": "markdown",
   "id": "ee33970d-4cb3-465d-9f35-c1bcd7ddad75",
   "metadata": {},
   "source": [
    "# Computer Networks"
   ]
  },
  {
   "cell_type": "markdown",
   "id": "2a68951c-cb16-4fa3-aeb6-ad58efd5cb7c",
   "metadata": {},
   "source": [
    "**Computer Networks**:\n",
    "* A computer network is a set of computers that can communicate with each other and share **resources** provided by **network nodes**.\n",
    "* Examples of computer networks include:\n",
    "    * Local Area Networks (**LANs**),\n",
    "    * Wide Area Networks (**WANs**), and\n",
    "    * the entire Internet.\n",
    "* The Internet, or World Wide Web, is essentially a giant network of computer networks.\n",
    "\n",
    "**Network Resource**:\n",
    "* A network resource is any object, such as a file or document, that can be identified by the network.\n",
    "* An object is identifiable if it can be assigned a **unique name and address** that the network can use to identify and access it.\n",
    "\n",
    "**Network Node**:\n",
    "* A network node is any device that participates in a network.\n",
    "* A network can include any device that is not necessarily a computer but is part of the network’s infrastructure.\n",
    "* Examples of network nodes include modems, network switches, hubs, and wifi hotspots."
   ]
  },
  {
   "cell_type": "markdown",
   "id": "90543369-eb0b-417b-be85-b3caa171a6f6",
   "metadata": {},
   "source": [
    "# Hosts, Clients, and Servers"
   ]
  },
  {
   "cell_type": "markdown",
   "id": "44153a3f-4067-4c22-b652-00c7088c7e38",
   "metadata": {},
   "source": [
    "* A **host** is a special type of node in a computer network - it is a computer that can function as a **server** or a **client** on a network.\n",
    "* A **server** is a host computer that is able to accept a connection from a **client** host and fulfill certain resource requests made by the client.\n",
    "* Many hosts can perform either role, acting as both client and server."
   ]
  },
  {
   "cell_type": "markdown",
   "id": "ab736213-ca7f-4a7f-ab1c-3a1890092721",
   "metadata": {},
   "source": [
    "# Packets and Pings"
   ]
  },
  {
   "cell_type": "markdown",
   "id": "18ae3a3a-e949-4ae9-80f2-534dec63e772",
   "metadata": {},
   "source": [
    "A **network packet** is a formatted chunk of data that can be transmitted over a network.\n",
    "\n",
    "Today's computer networks typically use communication protocols that are based on such packets of information. \n",
    "\n",
    "Every packet consists of two types of data: \n",
    "1. The **control information**, and\n",
    "2. The **payload**.\n",
    "\n",
    "The **control information** is data about how and where to deliver the payload, such as the source and destination network addresses, while the **payload** is the message being sent.\n",
    "\n",
    "The `ping` command works by sending special **' echo request'** packets to a host and waiting for a response from the host.\n",
    "* `ping` is a utility available on most operating systems that have networking capability.\n",
    "* Linux has its own implementation of the ping command that's used to test and troubleshoot connectivity to other network hosts."
   ]
  },
  {
   "cell_type": "markdown",
   "id": "49b9e551-a87e-428d-aaf4-0fbb59c0956e",
   "metadata": {},
   "source": [
    "# URLs and IP Addresses"
   ]
  },
  {
   "cell_type": "markdown",
   "id": "f4bca885-0add-4482-837c-63c0927fa407",
   "metadata": {},
   "source": [
    "**IP** stands for **\"Internet Protocol\"**, which defines the format of data transmitted over the internet or a local network.\n",
    "\n",
    "An **IP address** is a code used to uniquely identify any host on a network.\n",
    "* An IP address can be used to establish a connection to a host and exchange packets with it, for example, using the `ping` command.\n",
    "* In addition to their payload, IP packets - a type of network packet that conforms to the Internet Protocol - contain the IP addresses of the source and destination hosts.\n",
    "\n",
    "A **URL**, more commonly known as a web address, stands for **Uniform Resource Locator**.\n",
    "* A URL uniquely identifies a web resource and enables access to that resource.\n",
    "* Typically, the resource that a URL points to is a web page, but it can also be used for tasks such as transferring files, sending emails, and accessing databases.\n",
    "* For example, the URL to the Wikipedia page for URL is `https://en.wikipedia.org/wiki/URL`.\n",
    "\n",
    "Just like for a typical URL, its format includes:\n",
    "* a protocol (`https`),\n",
    "* a hostname (`en.wikipedia.org`), and\n",
    "* a file name (`/wiki/URL`)."
   ]
  },
  {
   "cell_type": "markdown",
   "id": "6c9b5cc3-0b4f-4640-8a07-4dd4932c5f74",
   "metadata": {},
   "source": [
    "# Summary"
   ]
  },
  {
   "cell_type": "markdown",
   "id": "7b7cc987-72b4-4f3e-9654-20a828ddd1cc",
   "metadata": {},
   "source": [
    "In this reading, you learned that:\n",
    "* A **computer network** is a set of computers that are able to communicate with each other and share resources.\n",
    "* A **network resource** is any object, such as a file or document, which can be identified by the network.\n",
    "* A **network node** is any device that participates in a network.\n",
    "* A **host** is a computer that can function as a server or a client on a network.\n",
    "* A **server** is a host computer that is able to accept a connection from a client host and fulfill certain resource requests made by the client.\n",
    "* A **network packet** is a formatted chunk of data that can be transmitted over a network.\n",
    "* The `ping` command works by sending special **' echo request'** packets to a host and waiting for a response from the host.\n",
    "* An **IP address** is a code used to uniquely identify any host on a network.\n",
    "* A **URL** identifies a web resource and enables access to that resource."
   ]
  },
  {
   "cell_type": "code",
   "execution_count": null,
   "id": "aec8315a-e87a-4154-9b8e-6546cfa125b0",
   "metadata": {},
   "outputs": [],
   "source": []
  }
 ],
 "metadata": {
  "kernelspec": {
   "display_name": "Python 3 (ipykernel)",
   "language": "python",
   "name": "python3"
  },
  "language_info": {
   "codemirror_mode": {
    "name": "ipython",
    "version": 3
   },
   "file_extension": ".py",
   "mimetype": "text/x-python",
   "name": "python",
   "nbconvert_exporter": "python",
   "pygments_lexer": "ipython3",
   "version": "3.12.5"
  }
 },
 "nbformat": 4,
 "nbformat_minor": 5
}
