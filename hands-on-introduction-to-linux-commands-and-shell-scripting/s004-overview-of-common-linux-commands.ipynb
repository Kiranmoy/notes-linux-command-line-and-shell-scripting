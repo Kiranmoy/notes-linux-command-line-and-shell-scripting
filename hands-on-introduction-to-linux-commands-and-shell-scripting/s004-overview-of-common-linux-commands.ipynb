{
 "cells": [
  {
   "cell_type": "markdown",
   "id": "e625d07f-9104-40e9-806d-686b2011d77c",
   "metadata": {},
   "source": [
    "# What is a Shell?"
   ]
  },
  {
   "cell_type": "markdown",
   "id": "5b377a9b-306b-4563-8b2d-4f6213515f4d",
   "metadata": {},
   "source": [
    "* A shell is a powerful user interface for Unix-like operating systems, which can interpret commands and run other programs.\n",
    "* A shell, which enables access to files, utilities, and applications, is also an interactive language.\n",
    "* A shell is also a scripting language, and it can be used to automate tasks.\n",
    "* The default shell on Linux systems is usually **Bash** (Bourne again shell).\n",
    "\n",
    "Other shells include:\n",
    "* the Bourne shell → `sh`,\n",
    "* the Korn shell → `ksh`,\n",
    "* TC shell → `tcsh` \n",
    "* Z shell → `zsh`\n",
    "* FI shell → `fish`\n",
    "\n",
    "\n",
    "```\n",
    "printenv SHELL      # returns the path to the default shell program, which in this case is bash\n",
    "\n",
    "bash                # to enable the bash shell\n",
    "```\n",
    "\n",
    "If your default shell is not Bash, you can always switch to it simply by entering 'bash' on the command line. \n"
   ]
  },
  {
   "cell_type": "markdown",
   "id": "ef32c5f8-9b1b-4d5c-8b7e-4c0e16d84395",
   "metadata": {},
   "source": [
    "# Shell command application"
   ]
  },
  {
   "cell_type": "markdown",
   "id": "3a76a03b-9ea3-4ebd-a82a-a99bf8e29df7",
   "metadata": {},
   "source": [
    "Applications of shell commands include:\n",
    "* Getting information,\n",
    "* Navigating and working with files and directories,\n",
    "* Printing file and string contents,\n",
    "* File compression and archiving,\n",
    "* Performing network operations,\n",
    "* Monitoring performance and status of the system, its components , and applications,\n",
    "* Running batch jobs, such as ETL operations."
   ]
  },
  {
   "cell_type": "markdown",
   "id": "cb4e5e45-7a9d-4464-afee-e9e7fae8550b",
   "metadata": {},
   "source": [
    "# Getting information"
   ]
  },
  {
   "cell_type": "markdown",
   "id": "9c478486-39f1-4e6e-a7eb-1095bf3e91ff",
   "metadata": {},
   "source": [
    "Some common shell commands for getting information include:\n",
    "* `whoami` – which returns the user's username,\n",
    "* `id` – which returns the current user and group IDs, \n",
    "* `uname` – returns the operating system name,\n",
    "* `ps` – displays running processes and their IDs,\n",
    "* `top` – displays running processes and resource usage including memory, CPU, and IO,\n",
    "* `df` – shows information about mounted file systems,\n",
    "* `man` – fetches the reference manual for any shell command, and\n",
    "* `date` – prints today's date."
   ]
  },
  {
   "cell_type": "markdown",
   "id": "92ca4944-c564-4c05-891d-9126f914716d",
   "metadata": {},
   "source": [
    "# Working with files"
   ]
  },
  {
   "cell_type": "markdown",
   "id": "e4bad825-e400-4b59-a636-6209d45e320b",
   "metadata": {},
   "source": [
    "Some common shell commands for working with files include:\n",
    "* `cp` – copy file,\n",
    "* `mv` – change file name or path,\n",
    "* `rm` – remove file,\n",
    "* `touch` – create an empty file or update the file timestamp,\n",
    "* `changemod` – change or modify file permissions,\n",
    "* `wc` – get the count of lines, words, and characters in a file,\n",
    "* `grep` – return lines in file matching pattern."
   ]
  },
  {
   "cell_type": "markdown",
   "id": "5cc5f86b-757a-4efa-9b20-d3f3ea5f34ad",
   "metadata": {},
   "source": [
    "# Navigating and working with directories"
   ]
  },
  {
   "cell_type": "markdown",
   "id": "f465dff1-6b26-440b-b581-fa495febe6a8",
   "metadata": {},
   "source": [
    "Very common shell commands for navigating and working with directories include:\n",
    "* `ls` – lists the files and directories in the current directory,\n",
    "* `find` – used to find files matching a pattern in the current directory tree,\n",
    "* `pwd` – prints the current, or ‘present working,’ directory,\n",
    "* `mkdir` – makes a new directory,\n",
    "* `cd` – changes the current directory to another directory, and\n",
    "* `rmdir` – removes an entire directory."
   ]
  },
  {
   "cell_type": "markdown",
   "id": "f74805f8-0047-41e9-b233-1aa42e534d2a",
   "metadata": {},
   "source": [
    "# Printing file and string contents"
   ]
  },
  {
   "cell_type": "markdown",
   "id": "36803b5d-73b8-4d7c-aa25-0b6183a17daa",
   "metadata": {},
   "source": [
    "For printing file contents or strings, common commands include:\n",
    "* `cat` – which prints the entire contents of a file,\n",
    "* `more` – used to print file contents one page at a time,\n",
    "* `head` – for printing just the first ‘N’ lines of a file,\n",
    "* `tail` – for printing the last ‘N’ lines of a file, and the very common\n",
    "* `echo` command – which 'echoes' an input string by printing it. It can also ‘echo’ the value of a variable."
   ]
  },
  {
   "cell_type": "markdown",
   "id": "2246a324-5e7f-4fdc-8c03-30055c0ec42e",
   "metadata": {},
   "source": [
    "# Compression and archiving"
   ]
  },
  {
   "cell_type": "markdown",
   "id": "6bec8cc9-4acc-4a9f-a57c-44f28ef6b2fb",
   "metadata": {},
   "source": [
    "Shell commands related to file compression and archiving applications include:\n",
    "* `tar` – which is used to archive a set of files,\n",
    "* `zip` – which compresses a set of files, and\n",
    "* `unzip` – which extracts files from a compressed or zipped archive."
   ]
  },
  {
   "cell_type": "markdown",
   "id": "88c238fe-dca3-4a39-98b1-cbb25d89bac6",
   "metadata": {},
   "source": [
    "# Networking"
   ]
  },
  {
   "cell_type": "markdown",
   "id": "c7f4ac4c-eeb2-4b35-a7aa-d9dedb4717cf",
   "metadata": {},
   "source": [
    "Networking applications include the following:\n",
    "* `hostname` – prints the hostname,\n",
    "* `ping` – sends packets to a URL and prints the response,\n",
    "* `ifconfig` – displays or configures network interfaces on the system,\n",
    "* `curl` – displays the contents of a file located at a URL, \n",
    "* `wget` - used to download a file from a URL."
   ]
  },
  {
   "cell_type": "markdown",
   "id": "d39e17cd-49a0-4b77-b975-bd68a57f09bf",
   "metadata": {},
   "source": [
    "# Running Linux on a Windows machine"
   ]
  },
  {
   "cell_type": "markdown",
   "id": "dec7a6a4-fb9f-4a19-bbc6-88544c85d5db",
   "metadata": {},
   "source": [
    "We should mention that if you happen to be running a Windows machine, and you want to run Linux on it, you can do so in various ways.\n",
    "* **Dual boot with a partition**:\n",
    "    * Linux can be installed on a separate drive partition.\n",
    "    * Switching between the two operating systems requires a reboot. \n",
    "* **Use a linux emulator**: Alternatively, you can install Linux on a virtual machine, or you can install a Linux emulator such as CygWin.\n",
    "* **Windows Subsystem for Linux**: Use the Windows Subsystem for Linux, a compatibility layer for running Linux binary executables natively on Windows."
   ]
  },
  {
   "cell_type": "code",
   "execution_count": null,
   "id": "e6314c44-32b0-4f4b-b8fe-5377feda92b5",
   "metadata": {},
   "outputs": [],
   "source": []
  }
 ],
 "metadata": {
  "kernelspec": {
   "display_name": "Python 3 (ipykernel)",
   "language": "python",
   "name": "python3"
  },
  "language_info": {
   "codemirror_mode": {
    "name": "ipython",
    "version": 3
   },
   "file_extension": ".py",
   "mimetype": "text/x-python",
   "name": "python",
   "nbconvert_exporter": "python",
   "pygments_lexer": "ipython3",
   "version": "3.12.5"
  }
 },
 "nbformat": 4,
 "nbformat_minor": 5
}
